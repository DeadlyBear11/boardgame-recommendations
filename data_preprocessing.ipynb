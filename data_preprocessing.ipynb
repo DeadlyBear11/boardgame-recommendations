{
 "cells": [
  {
   "cell_type": "code",
   "execution_count": 1,
   "id": "718b91c3-80d3-4ce4-827d-c048f0e0f93f",
   "metadata": {},
   "outputs": [],
   "source": [
    "import numpy as np\n",
    "import pandas as pd\n",
    "import time"
   ]
  },
  {
   "cell_type": "code",
   "execution_count": 2,
   "id": "76ff3176-022f-41be-b211-5cafaee75ffe",
   "metadata": {},
   "outputs": [
    {
     "data": {
      "text/plain": [
       "(152705, 15)"
      ]
     },
     "execution_count": 2,
     "metadata": {},
     "output_type": "execute_result"
    }
   ],
   "source": [
    "# Boargame genres dataframe\n",
    "df_genre = pd.read_csv('C:/Users/guije/Documents/boardgames_databases/bgg_ranks.csv')\n",
    "df_genre.shape"
   ]
  },
  {
   "cell_type": "code",
   "execution_count": 3,
   "id": "e09a30c4-1559-4c07-a474-55782416c5e3",
   "metadata": {},
   "outputs": [
    {
     "data": {
      "text/plain": [
       "Index(['id', 'name', 'yearpublished', 'rank', 'bayesaverage', 'average',\n",
       "       'usersrated', 'abstracts_rank', 'cgs_rank', 'childrensgames_rank',\n",
       "       'familygames_rank', 'partygames_rank', 'strategygames_rank',\n",
       "       'thematic_rank', 'wargames_rank'],\n",
       "      dtype='object')"
      ]
     },
     "execution_count": 3,
     "metadata": {},
     "output_type": "execute_result"
    }
   ],
   "source": [
    "df_genre.columns"
   ]
  },
  {
   "cell_type": "code",
   "execution_count": 4,
   "id": "3f0c5266-6d24-47ee-8522-441530900c9e",
   "metadata": {},
   "outputs": [],
   "source": [
    "genres_dict = {}\n",
    "genres_dict[\"abstracts\"] = []\n",
    "genres_dict[\"cgs\"] = []\n",
    "genres_dict[\"childrensgames\"] = []\n",
    "genres_dict[\"familygames\"] = []\n",
    "genres_dict[\"partygames\"] = []\n",
    "genres_dict[\"strategygames\"] = []\n",
    "genres_dict[\"thematic\"] = []\n",
    "genres_dict[\"wargames\"] = []"
   ]
  },
  {
   "cell_type": "code",
   "execution_count": 5,
   "id": "1021b165-f6f9-4a76-a0fd-d04991726be0",
   "metadata": {},
   "outputs": [],
   "source": [
    "for genre in df_genre.columns[7:]:\n",
    "    genres_dict[genre[:-5]] = df_genre.name[df_genre[genre] == df_genre[genre]]"
   ]
  },
  {
   "cell_type": "code",
   "execution_count": 6,
   "id": "b9796fda-716d-49a5-8991-08e788c1b7a5",
   "metadata": {},
   "outputs": [
    {
     "data": {
      "text/plain": [
       "dict_keys(['abstracts', 'cgs', 'childrensgames', 'familygames', 'partygames', 'strategygames', 'thematic', 'wargames'])"
      ]
     },
     "execution_count": 6,
     "metadata": {},
     "output_type": "execute_result"
    }
   ],
   "source": [
    "genres_dict.keys()"
   ]
  },
  {
   "cell_type": "code",
   "execution_count": 7,
   "id": "d028d410-b02c-486c-8713-ff9e53faded0",
   "metadata": {},
   "outputs": [
    {
     "data": {
      "text/plain": [
       "['Arkham Horror: The Card Game',\n",
       " 'Marvel Champions: The Card Game',\n",
       " 'Android: Netrunner',\n",
       " 'The Lord of the Rings: The Card Game',\n",
       " 'Magic: The Gathering']"
      ]
     },
     "execution_count": 7,
     "metadata": {},
     "output_type": "execute_result"
    }
   ],
   "source": [
    "list(genres_dict['cgs'])[:5]"
   ]
  },
  {
   "cell_type": "code",
   "execution_count": 8,
   "id": "c0f14b61-217f-4475-82fe-e9533575ad8e",
   "metadata": {},
   "outputs": [
    {
     "data": {
      "text/html": [
       "<div>\n",
       "<style scoped>\n",
       "    .dataframe tbody tr th:only-of-type {\n",
       "        vertical-align: middle;\n",
       "    }\n",
       "\n",
       "    .dataframe tbody tr th {\n",
       "        vertical-align: top;\n",
       "    }\n",
       "\n",
       "    .dataframe thead th {\n",
       "        text-align: right;\n",
       "    }\n",
       "</style>\n",
       "<table border=\"1\" class=\"dataframe\">\n",
       "  <thead>\n",
       "    <tr style=\"text-align: right;\">\n",
       "      <th></th>\n",
       "      <th>name</th>\n",
       "      <th>cgs_rank</th>\n",
       "    </tr>\n",
       "  </thead>\n",
       "  <tbody>\n",
       "    <tr>\n",
       "      <th>26</th>\n",
       "      <td>Arkham Horror: The Card Game</td>\n",
       "      <td>1.0</td>\n",
       "    </tr>\n",
       "  </tbody>\n",
       "</table>\n",
       "</div>"
      ],
      "text/plain": [
       "                            name  cgs_rank\n",
       "26  Arkham Horror: The Card Game       1.0"
      ]
     },
     "execution_count": 8,
     "metadata": {},
     "output_type": "execute_result"
    }
   ],
   "source": [
    "df_genre[['name', 'cgs_rank']][df_genre.name == 'Arkham Horror: The Card Game']"
   ]
  },
  {
   "cell_type": "code",
   "execution_count": 9,
   "id": "ae1bda97-1aba-4e59-baea-f4bfc775d5ee",
   "metadata": {},
   "outputs": [
    {
     "name": "stdout",
     "output_type": "stream",
     "text": [
      "Operation completed in  0.006247997283935547 seconds.\n"
     ]
    }
   ],
   "source": [
    "# User reviews dataframe\n",
    "start = time.time()\n",
    "path = 'C:/Users/guije/Documents/boardgames_databases/bgg-19m-reviews.csv'\n",
    "tfr = pd.read_csv(path , usecols=['user', 'rating', 'name'], chunksize=100000)\n",
    "print('Operation completed in ', time.time() - start, 'seconds.')"
   ]
  },
  {
   "cell_type": "code",
   "execution_count": 10,
   "id": "526a0100-b1b2-4d41-ad72-986d5d7db992",
   "metadata": {},
   "outputs": [
    {
     "name": "stdout",
     "output_type": "stream",
     "text": [
      "0.53% done in 1.01 seconds.\n",
      "10.02% done in 18.35 seconds.\n",
      "19.51% done in 32.63 seconds.\n",
      "29.0% done in 47.15 seconds.\n",
      "38.49% done in 65.33 seconds.\n",
      "47.98% done in 85.3 seconds.\n",
      "57.47% done in 107.59 seconds.\n",
      "66.97% done in 132.67 seconds.\n",
      "76.46% done in 160.81 seconds.\n",
      "85.95% done in 193.88 seconds.\n",
      "95.44% done in 241.9 seconds.\n"
     ]
    }
   ],
   "source": [
    "start = time.time()\n",
    "\n",
    "for num, chunk in enumerate(tfr):\n",
    "    df = pd.DataFrame(chunk)\n",
    "    df = df.assign(genre='unknown')\n",
    "            \n",
    "    for game in set(df.name):\n",
    "        for genre, series in genres_dict.items():\n",
    "            if game in series.values:\n",
    "                index = df.index[df.name == game]\n",
    "                df.loc[index, 'genre'] = genre\n",
    "\n",
    "    if num == 0:\n",
    "        df_ug = df.copy()\n",
    "    else:\n",
    "        df_ug = pd.concat([df_ug, df], ignore_index=True)\n",
    "     \n",
    "    if num % 18 == 0:\n",
    "        print(f\"{round(((num+1)/189.64807)*100, 2)}% done in {round(time.time() - start, 2)} seconds.\")"
   ]
  },
  {
   "cell_type": "code",
   "execution_count": 11,
   "id": "721838ea-0308-46e6-9072-6e3f7f7593be",
   "metadata": {},
   "outputs": [
    {
     "data": {
      "text/plain": [
       "(18964807, 4)"
      ]
     },
     "execution_count": 11,
     "metadata": {},
     "output_type": "execute_result"
    }
   ],
   "source": [
    "df_ug.shape"
   ]
  },
  {
   "cell_type": "code",
   "execution_count": 12,
   "id": "c49008fc-78cf-48e0-9e21-32b87b9e1293",
   "metadata": {},
   "outputs": [
    {
     "name": "stdout",
     "output_type": "stream",
     "text": [
      "There's 581786 reviews of genre abstracts.\n",
      "There's 267045 reviews of genre cgs.\n",
      "There's 245052 reviews of genre childrensgames.\n",
      "There's 4273773 reviews of genre familygames.\n",
      "There's 1587616 reviews of genre partygames.\n",
      "There's 6536143 reviews of genre strategygames.\n",
      "There's 2859561 reviews of genre thematic.\n",
      "There's 1211373 reviews of genre wargames.\n"
     ]
    }
   ],
   "source": [
    "for genre in genres_dict.keys():\n",
    "    print(f\"There's {len(df_ug[df_ug.genre == genre])} reviews of genre {genre}.\")"
   ]
  },
  {
   "cell_type": "code",
   "execution_count": 13,
   "id": "d96d92ee-bfe7-43b0-92f9-1d2976204619",
   "metadata": {},
   "outputs": [
    {
     "data": {
      "text/html": [
       "<div>\n",
       "<style scoped>\n",
       "    .dataframe tbody tr th:only-of-type {\n",
       "        vertical-align: middle;\n",
       "    }\n",
       "\n",
       "    .dataframe tbody tr th {\n",
       "        vertical-align: top;\n",
       "    }\n",
       "\n",
       "    .dataframe thead th {\n",
       "        text-align: right;\n",
       "    }\n",
       "</style>\n",
       "<table border=\"1\" class=\"dataframe\">\n",
       "  <thead>\n",
       "    <tr style=\"text-align: right;\">\n",
       "      <th></th>\n",
       "      <th>user</th>\n",
       "      <th>rating</th>\n",
       "      <th>name</th>\n",
       "      <th>genre</th>\n",
       "    </tr>\n",
       "  </thead>\n",
       "  <tbody>\n",
       "    <tr>\n",
       "      <th>0</th>\n",
       "      <td>Torsten</td>\n",
       "      <td>10.0</td>\n",
       "      <td>Pandemic</td>\n",
       "      <td>strategygames</td>\n",
       "    </tr>\n",
       "    <tr>\n",
       "      <th>1</th>\n",
       "      <td>mitnachtKAUBO-I</td>\n",
       "      <td>10.0</td>\n",
       "      <td>Pandemic</td>\n",
       "      <td>strategygames</td>\n",
       "    </tr>\n",
       "    <tr>\n",
       "      <th>2</th>\n",
       "      <td>avlawn</td>\n",
       "      <td>10.0</td>\n",
       "      <td>Pandemic</td>\n",
       "      <td>strategygames</td>\n",
       "    </tr>\n",
       "    <tr>\n",
       "      <th>3</th>\n",
       "      <td>Mike Mayer</td>\n",
       "      <td>10.0</td>\n",
       "      <td>Pandemic</td>\n",
       "      <td>strategygames</td>\n",
       "    </tr>\n",
       "    <tr>\n",
       "      <th>4</th>\n",
       "      <td>Mease19</td>\n",
       "      <td>10.0</td>\n",
       "      <td>Pandemic</td>\n",
       "      <td>strategygames</td>\n",
       "    </tr>\n",
       "  </tbody>\n",
       "</table>\n",
       "</div>"
      ],
      "text/plain": [
       "              user  rating      name          genre\n",
       "0          Torsten    10.0  Pandemic  strategygames\n",
       "1  mitnachtKAUBO-I    10.0  Pandemic  strategygames\n",
       "2           avlawn    10.0  Pandemic  strategygames\n",
       "3       Mike Mayer    10.0  Pandemic  strategygames\n",
       "4          Mease19    10.0  Pandemic  strategygames"
      ]
     },
     "execution_count": 13,
     "metadata": {},
     "output_type": "execute_result"
    }
   ],
   "source": [
    "df_ug.head()"
   ]
  },
  {
   "cell_type": "code",
   "execution_count": 14,
   "id": "491b2100-a7a9-4de4-98bd-34a221a28bed",
   "metadata": {},
   "outputs": [
    {
     "data": {
      "text/html": [
       "<div>\n",
       "<style scoped>\n",
       "    .dataframe tbody tr th:only-of-type {\n",
       "        vertical-align: middle;\n",
       "    }\n",
       "\n",
       "    .dataframe tbody tr th {\n",
       "        vertical-align: top;\n",
       "    }\n",
       "\n",
       "    .dataframe thead th {\n",
       "        text-align: right;\n",
       "    }\n",
       "</style>\n",
       "<table border=\"1\" class=\"dataframe\">\n",
       "  <thead>\n",
       "    <tr style=\"text-align: right;\">\n",
       "      <th></th>\n",
       "      <th>user</th>\n",
       "      <th>rating</th>\n",
       "      <th>name</th>\n",
       "      <th>genre</th>\n",
       "    </tr>\n",
       "  </thead>\n",
       "  <tbody>\n",
       "    <tr>\n",
       "      <th>18964802</th>\n",
       "      <td>Ceryon</td>\n",
       "      <td>3.1</td>\n",
       "      <td>Haps</td>\n",
       "      <td>unknown</td>\n",
       "    </tr>\n",
       "    <tr>\n",
       "      <th>18964803</th>\n",
       "      <td>Gregarius</td>\n",
       "      <td>2.0</td>\n",
       "      <td>Haps</td>\n",
       "      <td>unknown</td>\n",
       "    </tr>\n",
       "    <tr>\n",
       "      <th>18964804</th>\n",
       "      <td>Lajos</td>\n",
       "      <td>2.0</td>\n",
       "      <td>Haps</td>\n",
       "      <td>unknown</td>\n",
       "    </tr>\n",
       "    <tr>\n",
       "      <th>18964805</th>\n",
       "      <td>Imagine</td>\n",
       "      <td>1.0</td>\n",
       "      <td>Haps</td>\n",
       "      <td>unknown</td>\n",
       "    </tr>\n",
       "    <tr>\n",
       "      <th>18964806</th>\n",
       "      <td>gonzo104</td>\n",
       "      <td>1.0</td>\n",
       "      <td>Haps</td>\n",
       "      <td>unknown</td>\n",
       "    </tr>\n",
       "  </tbody>\n",
       "</table>\n",
       "</div>"
      ],
      "text/plain": [
       "               user  rating  name    genre\n",
       "18964802     Ceryon     3.1  Haps  unknown\n",
       "18964803  Gregarius     2.0  Haps  unknown\n",
       "18964804      Lajos     2.0  Haps  unknown\n",
       "18964805    Imagine     1.0  Haps  unknown\n",
       "18964806   gonzo104     1.0  Haps  unknown"
      ]
     },
     "execution_count": 14,
     "metadata": {},
     "output_type": "execute_result"
    }
   ],
   "source": [
    "df_ug.tail()"
   ]
  },
  {
   "cell_type": "code",
   "execution_count": 15,
   "id": "3ec16044-195f-4dd5-8341-6b36f6b5fb35",
   "metadata": {},
   "outputs": [
    {
     "data": {
      "text/plain": [
       "genre\n",
       "strategygames     6536143\n",
       "familygames       4273773\n",
       "thematic          2859561\n",
       "partygames        1587616\n",
       "unknown           1402458\n",
       "wargames          1211373\n",
       "abstracts          581786\n",
       "cgs                267045\n",
       "childrensgames     245052\n",
       "Name: count, dtype: int64"
      ]
     },
     "execution_count": 15,
     "metadata": {},
     "output_type": "execute_result"
    }
   ],
   "source": [
    "df_ug.genre.value_counts()"
   ]
  },
  {
   "cell_type": "code",
   "execution_count": 17,
   "id": "38c1b807-7e01-4462-9265-483f203aa46b",
   "metadata": {},
   "outputs": [
    {
     "data": {
      "text/html": [
       "<div>\n",
       "<style scoped>\n",
       "    .dataframe tbody tr th:only-of-type {\n",
       "        vertical-align: middle;\n",
       "    }\n",
       "\n",
       "    .dataframe tbody tr th {\n",
       "        vertical-align: top;\n",
       "    }\n",
       "\n",
       "    .dataframe thead th {\n",
       "        text-align: right;\n",
       "    }\n",
       "</style>\n",
       "<table border=\"1\" class=\"dataframe\">\n",
       "  <thead>\n",
       "    <tr style=\"text-align: right;\">\n",
       "      <th></th>\n",
       "      <th>id</th>\n",
       "      <th>name</th>\n",
       "      <th>yearpublished</th>\n",
       "      <th>rank</th>\n",
       "      <th>bayesaverage</th>\n",
       "      <th>average</th>\n",
       "      <th>usersrated</th>\n",
       "      <th>abstracts_rank</th>\n",
       "      <th>cgs_rank</th>\n",
       "      <th>childrensgames_rank</th>\n",
       "      <th>familygames_rank</th>\n",
       "      <th>partygames_rank</th>\n",
       "      <th>strategygames_rank</th>\n",
       "      <th>thematic_rank</th>\n",
       "      <th>wargames_rank</th>\n",
       "    </tr>\n",
       "  </thead>\n",
       "  <tbody>\n",
       "    <tr>\n",
       "      <th>23503</th>\n",
       "      <td>1752</td>\n",
       "      <td>Haps</td>\n",
       "      <td>2000</td>\n",
       "      <td>23504</td>\n",
       "      <td>5.48846</td>\n",
       "      <td>4.7375</td>\n",
       "      <td>32</td>\n",
       "      <td>NaN</td>\n",
       "      <td>NaN</td>\n",
       "      <td>NaN</td>\n",
       "      <td>NaN</td>\n",
       "      <td>NaN</td>\n",
       "      <td>NaN</td>\n",
       "      <td>NaN</td>\n",
       "      <td>NaN</td>\n",
       "    </tr>\n",
       "  </tbody>\n",
       "</table>\n",
       "</div>"
      ],
      "text/plain": [
       "         id  name  yearpublished   rank  bayesaverage  average  usersrated  \\\n",
       "23503  1752  Haps           2000  23504       5.48846   4.7375          32   \n",
       "\n",
       "       abstracts_rank  cgs_rank  childrensgames_rank  familygames_rank  \\\n",
       "23503             NaN       NaN                  NaN               NaN   \n",
       "\n",
       "       partygames_rank  strategygames_rank  thematic_rank  wargames_rank  \n",
       "23503              NaN                 NaN            NaN            NaN  "
      ]
     },
     "execution_count": 17,
     "metadata": {},
     "output_type": "execute_result"
    }
   ],
   "source": [
    "df_genre[df_genre.name == 'Haps']"
   ]
  },
  {
   "cell_type": "code",
   "execution_count": 20,
   "id": "fcdd8d44-2429-4fbd-b5e0-5ea9c1d1bd22",
   "metadata": {},
   "outputs": [
    {
     "data": {
      "text/plain": [
       "9218"
      ]
     },
     "execution_count": 20,
     "metadata": {},
     "output_type": "execute_result"
    }
   ],
   "source": [
    "len(set(df_ug.name[df_ug.genre == 'unknown']))"
   ]
  },
  {
   "cell_type": "markdown",
   "id": "4b781e65-8851-42bd-8a2c-162592cc9e35",
   "metadata": {},
   "source": [
    "<p>\n",
    "    There's 9,218 boardgames with unknown genre in the database.\n",
    "</p>"
   ]
  },
  {
   "cell_type": "code",
   "execution_count": 21,
   "id": "5f37786f-d275-4f7f-8139-14b6deb27cdc",
   "metadata": {},
   "outputs": [],
   "source": [
    "path = 'C:/Users/guije/Documents/boardgames_databases/bgg-19m-revgen.csv'\n",
    "df_ug.to_csv(path, encoding='utf-8', index=False)"
   ]
  },
  {
   "cell_type": "code",
   "execution_count": null,
   "id": "4781dc3e-2b53-4ad8-bf4c-d81f6dca6923",
   "metadata": {},
   "outputs": [],
   "source": []
  }
 ],
 "metadata": {
  "kernelspec": {
   "display_name": "Python 3 (ipykernel)",
   "language": "python",
   "name": "python3"
  },
  "language_info": {
   "codemirror_mode": {
    "name": "ipython",
    "version": 3
   },
   "file_extension": ".py",
   "mimetype": "text/x-python",
   "name": "python",
   "nbconvert_exporter": "python",
   "pygments_lexer": "ipython3",
   "version": "3.10.13"
  }
 },
 "nbformat": 4,
 "nbformat_minor": 5
}
