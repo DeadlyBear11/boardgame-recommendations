{
 "cells": [
  {
   "cell_type": "code",
   "execution_count": 1,
   "id": "718b91c3-80d3-4ce4-827d-c048f0e0f93f",
   "metadata": {},
   "outputs": [],
   "source": [
    "import numpy as np\n",
    "import pandas as pd\n",
    "import vaex"
   ]
  },
  {
   "cell_type": "code",
   "execution_count": 2,
   "id": "76ff3176-022f-41be-b211-5cafaee75ffe",
   "metadata": {},
   "outputs": [
    {
     "data": {
      "text/plain": [
       "Index(['id', 'name', 'yearpublished', 'rank', 'bayesaverage', 'average',\n",
       "       'usersrated', 'abstracts_rank', 'cgs_rank', 'childrensgames_rank',\n",
       "       'familygames_rank', 'partygames_rank', 'strategygames_rank',\n",
       "       'thematic_rank', 'wargames_rank'],\n",
       "      dtype='object')"
      ]
     },
     "execution_count": 2,
     "metadata": {},
     "output_type": "execute_result"
    }
   ],
   "source": [
    "# Boargame genres dataframe\n",
    "df_genre = pd.read_csv('C:/Users/guije/Documents/boardgames_databases/bgg_ranks.csv')\n",
    "df_genre.columns"
   ]
  },
  {
   "cell_type": "code",
   "execution_count": 4,
   "id": "ae1bda97-1aba-4e59-baea-f4bfc775d5ee",
   "metadata": {},
   "outputs": [
    {
     "data": {
      "text/html": [
       "<table>\n",
       "<thead>\n",
       "<tr><th>#                            </th><th style=\"text-align: right;\">  </th><th>user           </th><th style=\"text-align: right;\">  rating</th><th>comment                                            </th><th style=\"text-align: right;\">   ID</th><th>name    </th></tr>\n",
       "</thead>\n",
       "<tbody>\n",
       "<tr><td><i style='opacity: 0.6'>0</i></td><td style=\"text-align: right;\"> 0</td><td>Torsten        </td><td style=\"text-align: right;\">      10</td><td>                                                   </td><td style=\"text-align: right;\">30549</td><td>Pandemic</td></tr>\n",
       "<tr><td><i style='opacity: 0.6'>1</i></td><td style=\"text-align: right;\"> 1</td><td>mitnachtKAUBO-I</td><td style=\"text-align: right;\">      10</td><td>&#x27;Hands down my favorite new game of BGG CON 2007...</td><td style=\"text-align: right;\">30549</td><td>Pandemic</td></tr>\n",
       "<tr><td><i style='opacity: 0.6'>2</i></td><td style=\"text-align: right;\"> 2</td><td>avlawn         </td><td style=\"text-align: right;\">      10</td><td>&#x27;I tend to either love or easily tire of co-op g...</td><td style=\"text-align: right;\">30549</td><td>Pandemic</td></tr>\n",
       "<tr><td><i style='opacity: 0.6'>3</i></td><td style=\"text-align: right;\"> 3</td><td>Mike Mayer     </td><td style=\"text-align: right;\">      10</td><td>                                                   </td><td style=\"text-align: right;\">30549</td><td>Pandemic</td></tr>\n",
       "<tr><td><i style='opacity: 0.6'>4</i></td><td style=\"text-align: right;\"> 4</td><td>Mease19        </td><td style=\"text-align: right;\">      10</td><td>&#x27;This is an amazing co-op game.  I play mostly w...</td><td style=\"text-align: right;\">30549</td><td>Pandemic</td></tr>\n",
       "</tbody>\n",
       "</table>"
      ],
      "text/plain": [
       "  #      user               rating  comment                                                 ID  name\n",
       "  0   0  Torsten                10                                                       30549  Pandemic\n",
       "  1   1  mitnachtKAUBO-I        10  'Hands down my favorite new game of BGG CON 2007...  30549  Pandemic\n",
       "  2   2  avlawn                 10  'I tend to either love or easily tire of co-op g...  30549  Pandemic\n",
       "  3   3  Mike Mayer             10                                                       30549  Pandemic\n",
       "  4   4  Mease19                10  'This is an amazing co-op game.  I play mostly w...  30549  Pandemic"
      ]
     },
     "execution_count": 4,
     "metadata": {},
     "output_type": "execute_result"
    }
   ],
   "source": [
    "# User reviews dataframe\n",
    "df_ur = vaex.open('C:/Users/guije/Documents/boardgames_databases/bgg-19m-reviews.csv')\n",
    "df_ur[:5]"
   ]
  },
  {
   "cell_type": "code",
   "execution_count": 5,
   "id": "e3e8e807-0de8-4144-a15d-e9b3f1f6d58c",
   "metadata": {},
   "outputs": [],
   "source": [
    "df_ur = df_ur[['user', 'rating', 'name']]"
   ]
  },
  {
   "cell_type": "code",
   "execution_count": 6,
   "id": "3f0c5266-6d24-47ee-8522-441530900c9e",
   "metadata": {},
   "outputs": [],
   "source": [
    "my_dict = {}\n",
    "my_dict[\"abstracts\"] = []\n",
    "my_dict[\"cgs\"] = []\n",
    "my_dict[\"childrensgames\"] = []\n",
    "my_dict[\"familygames\"] = []\n",
    "my_dict[\"partygames\"] = []\n",
    "my_dict[\"strategygames\"] = []\n",
    "my_dict[\"thematic\"] = []\n",
    "my_dict[\"wargames\"] = []"
   ]
  },
  {
   "cell_type": "code",
   "execution_count": 7,
   "id": "1021b165-f6f9-4a76-a0fd-d04991726be0",
   "metadata": {},
   "outputs": [],
   "source": [
    "for genre in df_genre.columns[7:]:\n",
    "    my_dict[genre[:-5]] = df_genre.name[df_genre[genre] == df_genre[genre]]"
   ]
  },
  {
   "cell_type": "code",
   "execution_count": 8,
   "id": "823d730d-f6a8-4e28-93a4-82c6f7aafbf2",
   "metadata": {},
   "outputs": [
    {
     "data": {
      "text/plain": [
       "8"
      ]
     },
     "execution_count": 8,
     "metadata": {},
     "output_type": "execute_result"
    }
   ],
   "source": [
    "len(my_dict)"
   ]
  },
  {
   "cell_type": "code",
   "execution_count": 9,
   "id": "b9796fda-716d-49a5-8991-08e788c1b7a5",
   "metadata": {},
   "outputs": [
    {
     "data": {
      "text/plain": [
       "dict_keys(['abstracts', 'cgs', 'childrensgames', 'familygames', 'partygames', 'strategygames', 'thematic', 'wargames'])"
      ]
     },
     "execution_count": 9,
     "metadata": {},
     "output_type": "execute_result"
    }
   ],
   "source": [
    "my_dict.keys()"
   ]
  },
  {
   "cell_type": "code",
   "execution_count": 10,
   "id": "d028d410-b02c-486c-8713-ff9e53faded0",
   "metadata": {},
   "outputs": [
    {
     "data": {
      "text/plain": [
       "26    Arkham Horror: The Card Game\n",
       "Name: name, dtype: object"
      ]
     },
     "execution_count": 10,
     "metadata": {},
     "output_type": "execute_result"
    }
   ],
   "source": [
    "my_dict['cgs'][my_dict['cgs'].index[0:1]]"
   ]
  },
  {
   "cell_type": "code",
   "execution_count": 11,
   "id": "b68fa8c0-a0ab-42c0-b919-af24694f57d0",
   "metadata": {},
   "outputs": [
    {
     "data": {
      "text/html": [
       "<div>\n",
       "<style scoped>\n",
       "    .dataframe tbody tr th:only-of-type {\n",
       "        vertical-align: middle;\n",
       "    }\n",
       "\n",
       "    .dataframe tbody tr th {\n",
       "        vertical-align: top;\n",
       "    }\n",
       "\n",
       "    .dataframe thead th {\n",
       "        text-align: right;\n",
       "    }\n",
       "</style>\n",
       "<table border=\"1\" class=\"dataframe\">\n",
       "  <thead>\n",
       "    <tr style=\"text-align: right;\">\n",
       "      <th></th>\n",
       "      <th>id</th>\n",
       "      <th>name</th>\n",
       "      <th>yearpublished</th>\n",
       "      <th>rank</th>\n",
       "      <th>bayesaverage</th>\n",
       "      <th>average</th>\n",
       "      <th>usersrated</th>\n",
       "      <th>abstracts_rank</th>\n",
       "      <th>cgs_rank</th>\n",
       "      <th>childrensgames_rank</th>\n",
       "      <th>familygames_rank</th>\n",
       "      <th>partygames_rank</th>\n",
       "      <th>strategygames_rank</th>\n",
       "      <th>thematic_rank</th>\n",
       "      <th>wargames_rank</th>\n",
       "    </tr>\n",
       "  </thead>\n",
       "  <tbody>\n",
       "    <tr>\n",
       "      <th>26</th>\n",
       "      <td>205637</td>\n",
       "      <td>Arkham Horror: The Card Game</td>\n",
       "      <td>2016</td>\n",
       "      <td>27</td>\n",
       "      <td>7.90115</td>\n",
       "      <td>8.13092</td>\n",
       "      <td>42370</td>\n",
       "      <td>NaN</td>\n",
       "      <td>1.0</td>\n",
       "      <td>NaN</td>\n",
       "      <td>NaN</td>\n",
       "      <td>NaN</td>\n",
       "      <td>NaN</td>\n",
       "      <td>13.0</td>\n",
       "      <td>NaN</td>\n",
       "    </tr>\n",
       "  </tbody>\n",
       "</table>\n",
       "</div>"
      ],
      "text/plain": [
       "        id                          name  yearpublished  rank  bayesaverage  \\\n",
       "26  205637  Arkham Horror: The Card Game           2016    27       7.90115   \n",
       "\n",
       "    average  usersrated  abstracts_rank  cgs_rank  childrensgames_rank  \\\n",
       "26  8.13092       42370             NaN       1.0                  NaN   \n",
       "\n",
       "    familygames_rank  partygames_rank  strategygames_rank  thematic_rank  \\\n",
       "26               NaN              NaN                 NaN           13.0   \n",
       "\n",
       "    wargames_rank  \n",
       "26            NaN  "
      ]
     },
     "execution_count": 11,
     "metadata": {},
     "output_type": "execute_result"
    }
   ],
   "source": [
    "df_genre[df_genre.name == 'Arkham Horror: The Card Game']"
   ]
  },
  {
   "cell_type": "code",
   "execution_count": 12,
   "id": "7d4fe8e1-1d20-4493-9456-088a067c9cbe",
   "metadata": {},
   "outputs": [],
   "source": [
    "df_dict = {}\n",
    "df_dict[\"abstracts\"] = []\n",
    "df_dict[\"cgs\"] = []\n",
    "df_dict[\"childrensgames\"] = []\n",
    "df_dict[\"familygames\"] = []\n",
    "df_dict[\"partygames\"] = []\n",
    "df_dict[\"strategygames\"] = []\n",
    "df_dict[\"thematic\"] = []\n",
    "df_dict[\"wargames\"] = []"
   ]
  },
  {
   "cell_type": "code",
   "execution_count": null,
   "id": "aeb949f0-621a-4887-80b8-f66c0d151a47",
   "metadata": {},
   "outputs": [],
   "source": [
    "count = 0\n",
    "for k, v in my_dict.items():\n",
    "    for name in v:\n",
    "        df_dict[k].append(df_ur[df_ur['name'] == name])\n",
    "        count+=1\n",
    "        if count % 1000 == 0:\n",
    "            print(count)"
   ]
  },
  {
   "cell_type": "code",
   "execution_count": null,
   "id": "ae93317f-bd1c-42c6-9bd7-f8844f860069",
   "metadata": {},
   "outputs": [],
   "source": []
  }
 ],
 "metadata": {
  "kernelspec": {
   "display_name": "Python 3 (ipykernel)",
   "language": "python",
   "name": "python3"
  },
  "language_info": {
   "codemirror_mode": {
    "name": "ipython",
    "version": 3
   },
   "file_extension": ".py",
   "mimetype": "text/x-python",
   "name": "python",
   "nbconvert_exporter": "python",
   "pygments_lexer": "ipython3",
   "version": "3.10.13"
  }
 },
 "nbformat": 4,
 "nbformat_minor": 5
}
