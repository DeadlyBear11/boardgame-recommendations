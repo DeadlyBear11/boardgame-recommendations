{
 "cells": [
  {
   "cell_type": "markdown",
   "id": "bd07c788-fd95-4d4e-8647-aca5329ee5f8",
   "metadata": {},
   "source": [
    "<h1>Item-Based Collaborative Filtering</h1>"
   ]
  },
  {
   "cell_type": "code",
   "execution_count": 1,
   "id": "7726ee00-cb9e-4388-b45c-50749b554b83",
   "metadata": {},
   "outputs": [],
   "source": [
    "import numpy as np\n",
    "import pandas as pd\n",
    "import scipy as sp\n",
    "import time\n",
    "from sklearn.metrics.pairwise import cosine_similarity"
   ]
  },
  {
   "cell_type": "code",
   "execution_count": 2,
   "id": "02c14363-30ed-4df6-87b3-705eb42692e8",
   "metadata": {},
   "outputs": [
    {
     "name": "stdout",
     "output_type": "stream",
     "text": [
      "Completed in 30.951889753341675 seconds.\n"
     ]
    }
   ],
   "source": [
    "start = time.time()\n",
    "df_ur = pd.read_csv('C:/Users/guije/Documents/boardgames_databases/bgg-19m-revgen.csv')\n",
    "print(f\"Completed in {time.time() - start} seconds.\")"
   ]
  },
  {
   "cell_type": "code",
   "execution_count": 3,
   "id": "2c4a495b-a189-4fd5-bcba-11bde26fe085",
   "metadata": {},
   "outputs": [
    {
     "data": {
      "text/plain": [
       "Index(['user', 'rating', 'name', 'genre'], dtype='object')"
      ]
     },
     "execution_count": 3,
     "metadata": {},
     "output_type": "execute_result"
    }
   ],
   "source": [
    "df_ur.columns"
   ]
  },
  {
   "cell_type": "code",
   "execution_count": 4,
   "id": "e494f111-9e6d-4368-99e9-2119f9eb4279",
   "metadata": {},
   "outputs": [
    {
     "name": "stdout",
     "output_type": "stream",
     "text": [
      "The user 'Torsten' has reviewed 1460 boardgames.\n"
     ]
    }
   ],
   "source": [
    "print(f\"The user 'Torsten' has reviewed {len(df_ur[df_ur.user == 'Torsten'])} boardgames.\")"
   ]
  },
  {
   "cell_type": "code",
   "execution_count": 5,
   "id": "e05293af-31bc-4191-949d-06328416b608",
   "metadata": {},
   "outputs": [
    {
     "name": "stdout",
     "output_type": "stream",
     "text": [
      "<class 'pandas.core.frame.DataFrame'>\n",
      "RangeIndex: 18964807 entries, 0 to 18964806\n",
      "Data columns (total 4 columns):\n",
      " #   Column  Dtype  \n",
      "---  ------  -----  \n",
      " 0   user    object \n",
      " 1   rating  float64\n",
      " 2   name    object \n",
      " 3   genre   object \n",
      "dtypes: float64(1), object(3)\n",
      "memory usage: 578.8+ MB\n"
     ]
    }
   ],
   "source": [
    "df_ur.info()"
   ]
  },
  {
   "cell_type": "code",
   "execution_count": 6,
   "id": "c179288b-10d3-4c0d-9694-f7171fe960c1",
   "metadata": {},
   "outputs": [
    {
     "data": {
      "text/plain": [
       "user       True\n",
       "rating    False\n",
       "name      False\n",
       "genre     False\n",
       "dtype: bool"
      ]
     },
     "execution_count": 6,
     "metadata": {},
     "output_type": "execute_result"
    }
   ],
   "source": [
    "df_ur.isnull().any()"
   ]
  },
  {
   "cell_type": "code",
   "execution_count": 7,
   "id": "4e2abb1d-9fef-44ff-9b68-4054da4dc26a",
   "metadata": {},
   "outputs": [
    {
     "data": {
      "text/plain": [
       "66"
      ]
     },
     "execution_count": 7,
     "metadata": {},
     "output_type": "execute_result"
    }
   ],
   "source": [
    "len(df_ur.user[df_ur.user.isnull()])"
   ]
  },
  {
   "cell_type": "code",
   "execution_count": 8,
   "id": "6da3dbcb-8c61-46b7-bcf7-e6063dcf065a",
   "metadata": {},
   "outputs": [
    {
     "data": {
      "text/plain": [
       "user      False\n",
       "rating    False\n",
       "name      False\n",
       "genre     False\n",
       "dtype: bool"
      ]
     },
     "execution_count": 8,
     "metadata": {},
     "output_type": "execute_result"
    }
   ],
   "source": [
    "df_ur.dropna(subset=['user'], inplace=True)\n",
    "df_ur.isnull().any()"
   ]
  },
  {
   "cell_type": "code",
   "execution_count": 9,
   "id": "031f5e89-f642-40b1-a2fb-b632c3ad3950",
   "metadata": {},
   "outputs": [
    {
     "data": {
      "text/plain": [
       "genre\n",
       "strategygames     6536126\n",
       "familygames       4273743\n",
       "thematic          2859560\n",
       "partygames        1587615\n",
       "unknown           1402455\n",
       "wargames          1211371\n",
       "abstracts          581781\n",
       "cgs                267038\n",
       "childrensgames     245052\n",
       "Name: count, dtype: int64"
      ]
     },
     "execution_count": 9,
     "metadata": {},
     "output_type": "execute_result"
    }
   ],
   "source": [
    "df_ur.genre.value_counts()"
   ]
  },
  {
   "cell_type": "code",
   "execution_count": 10,
   "id": "ff83ff9c-32d8-4a85-bfa0-a724f24d240d",
   "metadata": {},
   "outputs": [],
   "source": [
    "# Divide them by genre\n",
    "df_sg = df_ur[df_ur.genre == 'strategygames']\n",
    "df_fg = df_ur[df_ur.genre == 'familygames']\n",
    "df_tg = df_ur[df_ur.genre == 'thematic']\n",
    "df_pg = df_ur[df_ur.genre == 'partygames']\n",
    "df_un = df_ur[df_ur.genre == 'unknown']\n",
    "df_wg = df_ur[df_ur.genre == 'wargames']\n",
    "df_ag = df_ur[df_ur.genre == 'abstracts']\n",
    "df_cg = df_ur[df_ur.genre == 'cgs']\n",
    "df_chg = df_ur[df_ur.genre == 'childrensgames']"
   ]
  },
  {
   "cell_type": "code",
   "execution_count": 11,
   "id": "3a404496-88cc-418c-81af-33df03de5fa1",
   "metadata": {},
   "outputs": [],
   "source": [
    "df_genres = [df_sg, df_fg, df_tg, df_pg, df_un, df_wg, df_ag, df_cg, df_chg]"
   ]
  },
  {
   "cell_type": "code",
   "execution_count": 12,
   "id": "d8d001e5-1809-4b02-95ef-aa66d0049dd0",
   "metadata": {},
   "outputs": [],
   "source": [
    "def bg_recommendation(game, list_of_dfs):\n",
    "\n",
    "    df = pd.DataFrame()\n",
    "    \n",
    "    # Find the correct df for a specific boardgame\n",
    "    for data in list_of_dfs:\n",
    "        if game in set(data.name):\n",
    "            df = data\n",
    "            \n",
    "    if df.empty:\n",
    "        print(\"Game not found in the database.\")\n",
    "    else:\n",
    "        # Pivot table for similarity\n",
    "        pivot = df.pivot_table(index=['user'], columns=['name'], values='rating')\n",
    "\n",
    "        # Filling NaN values with zero\n",
    "        pivot.fillna(0, inplace=True)\n",
    "\n",
    "        # Dropping columns with only zeroes\n",
    "        pivot = pivot.T\n",
    "        pivot = pivot.loc[:, (pivot != 0).any(axis=0)]\n",
    "\n",
    "        # Save memory with a Compressed Sparse Row matrix\n",
    "        piv_sparse = sp.sparse.csr_matrix(pivot.values)\n",
    "\n",
    "        # Creating a board game similarity dataframe based on cosine similarity\n",
    "        boardgame_similarity = cosine_similarity(piv_sparse)\n",
    "        bg_sim_df = pd.DataFrame(boardgame_similarity, index=pivot.index, columns=pivot.index)\n",
    "\n",
    "        return recommendation_output(bg_name=game, df_sim=bg_sim_df)"
   ]
  },
  {
   "cell_type": "code",
   "execution_count": 13,
   "id": "77b01efb-e0ac-43e9-af72-32c683b3b48c",
   "metadata": {},
   "outputs": [],
   "source": [
    "def recommendation_output(bg_name, df_sim):\n",
    "    number = 1\n",
    "    print(f\"Recommended because you like {bg_name}:\\n\")\n",
    "    for bg in df_sim.sort_values(by = bg_name, ascending = False).index[1:6]:\n",
    "        print(f\"#{number}: {bg}, {round(df_sim[bg][bg_name]*100,2)}% match\")\n",
    "        number +=1  "
   ]
  },
  {
   "cell_type": "code",
   "execution_count": 14,
   "id": "3e47f25e-9008-405f-864d-078bdc541796",
   "metadata": {},
   "outputs": [
    {
     "name": "stdout",
     "output_type": "stream",
     "text": [
      "Recommended because you like Pandemic:\n",
      "\n",
      "#1: 7 Wonders, 53.72% match\n",
      "#2: Dominion, 52.37% match\n",
      "#3: Small World, 49.12% match\n",
      "#4: Power Grid, 45.07% match\n",
      "#5: Agricola, 44.95% match\n"
     ]
    }
   ],
   "source": [
    "bg_recommendation('Pandemic', df_genres)"
   ]
  },
  {
   "cell_type": "code",
   "execution_count": null,
   "id": "4f96a500-7089-4074-a4c5-fa03e3cbd9e3",
   "metadata": {},
   "outputs": [],
   "source": []
  }
 ],
 "metadata": {
  "kernelspec": {
   "display_name": "Python 3 (ipykernel)",
   "language": "python",
   "name": "python3"
  },
  "language_info": {
   "codemirror_mode": {
    "name": "ipython",
    "version": 3
   },
   "file_extension": ".py",
   "mimetype": "text/x-python",
   "name": "python",
   "nbconvert_exporter": "python",
   "pygments_lexer": "ipython3",
   "version": "3.10.13"
  }
 },
 "nbformat": 4,
 "nbformat_minor": 5
}
