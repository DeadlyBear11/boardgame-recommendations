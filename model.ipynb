{
 "cells": [
  {
   "cell_type": "markdown",
   "id": "bd07c788-fd95-4d4e-8647-aca5329ee5f8",
   "metadata": {},
   "source": [
    "<h1>Item-Based Collaborative Filtering</h1>"
   ]
  },
  {
   "cell_type": "code",
   "execution_count": 1,
   "id": "7726ee00-cb9e-4388-b45c-50749b554b83",
   "metadata": {},
   "outputs": [],
   "source": [
    "import numpy as np\n",
    "import pandas as pd\n",
    "import scipy as sp\n",
    "import time\n",
    "from sklearn.metrics.pairwise import cosine_similarity"
   ]
  },
  {
   "cell_type": "code",
   "execution_count": 2,
   "id": "02c14363-30ed-4df6-87b3-705eb42692e8",
   "metadata": {},
   "outputs": [
    {
     "name": "stdout",
     "output_type": "stream",
     "text": [
      "Completed in 15.474953889846802 seconds.\n"
     ]
    }
   ],
   "source": [
    "start = time.time()\n",
    "df_ur = pd.read_csv('C:/Users/guije/Documents/boardgames_databases/bgg-19m-revgen.csv')\n",
    "print(f\"Completed in {time.time() - start} seconds.\")"
   ]
  },
  {
   "cell_type": "code",
   "execution_count": 3,
   "id": "2c4a495b-a189-4fd5-bcba-11bde26fe085",
   "metadata": {},
   "outputs": [
    {
     "data": {
      "text/plain": [
       "Index(['user', 'rating', 'name', 'genre'], dtype='object')"
      ]
     },
     "execution_count": 3,
     "metadata": {},
     "output_type": "execute_result"
    }
   ],
   "source": [
    "df_ur.columns"
   ]
  },
  {
   "cell_type": "code",
   "execution_count": 4,
   "id": "e494f111-9e6d-4368-99e9-2119f9eb4279",
   "metadata": {},
   "outputs": [
    {
     "name": "stdout",
     "output_type": "stream",
     "text": [
      "The user 'Torsten' has reviewed 1460 boardgames.\n"
     ]
    }
   ],
   "source": [
    "print(f\"The user 'Torsten' has reviewed {len(df_ur[df_ur.user == 'Torsten'])} boardgames.\")"
   ]
  },
  {
   "cell_type": "code",
   "execution_count": 5,
   "id": "e05293af-31bc-4191-949d-06328416b608",
   "metadata": {},
   "outputs": [
    {
     "name": "stdout",
     "output_type": "stream",
     "text": [
      "<class 'pandas.core.frame.DataFrame'>\n",
      "RangeIndex: 18964807 entries, 0 to 18964806\n",
      "Data columns (total 4 columns):\n",
      " #   Column  Dtype  \n",
      "---  ------  -----  \n",
      " 0   user    object \n",
      " 1   rating  float64\n",
      " 2   name    object \n",
      " 3   genre   object \n",
      "dtypes: float64(1), object(3)\n",
      "memory usage: 578.8+ MB\n"
     ]
    }
   ],
   "source": [
    "df_ur.info()"
   ]
  },
  {
   "cell_type": "code",
   "execution_count": 6,
   "id": "c179288b-10d3-4c0d-9694-f7171fe960c1",
   "metadata": {},
   "outputs": [
    {
     "data": {
      "text/plain": [
       "user       True\n",
       "rating    False\n",
       "name      False\n",
       "genre     False\n",
       "dtype: bool"
      ]
     },
     "execution_count": 6,
     "metadata": {},
     "output_type": "execute_result"
    }
   ],
   "source": [
    "df_ur.isnull().any()"
   ]
  },
  {
   "cell_type": "code",
   "execution_count": 7,
   "id": "4e2abb1d-9fef-44ff-9b68-4054da4dc26a",
   "metadata": {},
   "outputs": [
    {
     "data": {
      "text/plain": [
       "66"
      ]
     },
     "execution_count": 7,
     "metadata": {},
     "output_type": "execute_result"
    }
   ],
   "source": [
    "len(df_ur.user[df_ur.user.isnull()])"
   ]
  },
  {
   "cell_type": "code",
   "execution_count": 8,
   "id": "6da3dbcb-8c61-46b7-bcf7-e6063dcf065a",
   "metadata": {},
   "outputs": [
    {
     "data": {
      "text/plain": [
       "user      False\n",
       "rating    False\n",
       "name      False\n",
       "genre     False\n",
       "dtype: bool"
      ]
     },
     "execution_count": 8,
     "metadata": {},
     "output_type": "execute_result"
    }
   ],
   "source": [
    "df_ur.dropna(subset=['user'], inplace=True)\n",
    "df_ur.isnull().any()"
   ]
  },
  {
   "cell_type": "code",
   "execution_count": 9,
   "id": "031f5e89-f642-40b1-a2fb-b632c3ad3950",
   "metadata": {},
   "outputs": [
    {
     "data": {
      "text/plain": [
       "genre\n",
       "strategygames     6536126\n",
       "familygames       4273743\n",
       "thematic          2859560\n",
       "partygames        1587615\n",
       "unknown           1402455\n",
       "wargames          1211371\n",
       "abstracts          581781\n",
       "cgs                267038\n",
       "childrensgames     245052\n",
       "Name: count, dtype: int64"
      ]
     },
     "execution_count": 9,
     "metadata": {},
     "output_type": "execute_result"
    }
   ],
   "source": [
    "df_ur.genre.value_counts()"
   ]
  },
  {
   "cell_type": "code",
   "execution_count": 12,
   "id": "ff83ff9c-32d8-4a85-bfa0-a724f24d240d",
   "metadata": {},
   "outputs": [
    {
     "data": {
      "text/plain": [
       "6536126"
      ]
     },
     "execution_count": 12,
     "metadata": {},
     "output_type": "execute_result"
    }
   ],
   "source": [
    "df_sg = df_ur[df_ur.genre == 'strategygames']\n",
    "len(df_sg)"
   ]
  },
  {
   "cell_type": "code",
   "execution_count": 13,
   "id": "b12928c9-e821-47e7-a3ae-c6b8ef75821e",
   "metadata": {},
   "outputs": [
    {
     "data": {
      "text/html": [
       "<div>\n",
       "<style scoped>\n",
       "    .dataframe tbody tr th:only-of-type {\n",
       "        vertical-align: middle;\n",
       "    }\n",
       "\n",
       "    .dataframe tbody tr th {\n",
       "        vertical-align: top;\n",
       "    }\n",
       "\n",
       "    .dataframe thead th {\n",
       "        text-align: right;\n",
       "    }\n",
       "</style>\n",
       "<table border=\"1\" class=\"dataframe\">\n",
       "  <thead>\n",
       "    <tr style=\"text-align: right;\">\n",
       "      <th>name</th>\n",
       "      <th>1347: De Nigrae Pestis Ludo</th>\n",
       "      <th>15 Dias: The Spanish Golden Age</th>\n",
       "      <th>1655: Habemus Papam</th>\n",
       "      <th>1800: Colorado</th>\n",
       "      <th>1812: The Cradle of Steam Railways</th>\n",
       "      <th>1817</th>\n",
       "      <th>1822: The Railways of Great Britain</th>\n",
       "      <th>1822MX</th>\n",
       "      <th>1824: Austria-Hungary</th>\n",
       "      <th>1825 Unit 1</th>\n",
       "      <th>...</th>\n",
       "      <th>Zapotec</th>\n",
       "      <th>Zauberschwert &amp; Drachenei</th>\n",
       "      <th>Zena 1814</th>\n",
       "      <th>Zeppelin Attack!</th>\n",
       "      <th>ZhanGuo</th>\n",
       "      <th>Zoff in Buffalo</th>\n",
       "      <th>Zoocracy</th>\n",
       "      <th>Zoon</th>\n",
       "      <th>another damn Civilization game</th>\n",
       "      <th>oddball Äeronauts</th>\n",
       "    </tr>\n",
       "    <tr>\n",
       "      <th>user</th>\n",
       "      <th></th>\n",
       "      <th></th>\n",
       "      <th></th>\n",
       "      <th></th>\n",
       "      <th></th>\n",
       "      <th></th>\n",
       "      <th></th>\n",
       "      <th></th>\n",
       "      <th></th>\n",
       "      <th></th>\n",
       "      <th></th>\n",
       "      <th></th>\n",
       "      <th></th>\n",
       "      <th></th>\n",
       "      <th></th>\n",
       "      <th></th>\n",
       "      <th></th>\n",
       "      <th></th>\n",
       "      <th></th>\n",
       "      <th></th>\n",
       "      <th></th>\n",
       "    </tr>\n",
       "  </thead>\n",
       "  <tbody>\n",
       "    <tr>\n",
       "      <th>beastvol</th>\n",
       "      <td>NaN</td>\n",
       "      <td>NaN</td>\n",
       "      <td>NaN</td>\n",
       "      <td>NaN</td>\n",
       "      <td>NaN</td>\n",
       "      <td>NaN</td>\n",
       "      <td>NaN</td>\n",
       "      <td>NaN</td>\n",
       "      <td>NaN</td>\n",
       "      <td>NaN</td>\n",
       "      <td>...</td>\n",
       "      <td>NaN</td>\n",
       "      <td>NaN</td>\n",
       "      <td>NaN</td>\n",
       "      <td>NaN</td>\n",
       "      <td>NaN</td>\n",
       "      <td>NaN</td>\n",
       "      <td>NaN</td>\n",
       "      <td>NaN</td>\n",
       "      <td>NaN</td>\n",
       "      <td>NaN</td>\n",
       "    </tr>\n",
       "    <tr>\n",
       "      <th>mycroft</th>\n",
       "      <td>NaN</td>\n",
       "      <td>NaN</td>\n",
       "      <td>NaN</td>\n",
       "      <td>NaN</td>\n",
       "      <td>NaN</td>\n",
       "      <td>NaN</td>\n",
       "      <td>NaN</td>\n",
       "      <td>NaN</td>\n",
       "      <td>NaN</td>\n",
       "      <td>NaN</td>\n",
       "      <td>...</td>\n",
       "      <td>NaN</td>\n",
       "      <td>NaN</td>\n",
       "      <td>NaN</td>\n",
       "      <td>NaN</td>\n",
       "      <td>NaN</td>\n",
       "      <td>NaN</td>\n",
       "      <td>NaN</td>\n",
       "      <td>NaN</td>\n",
       "      <td>NaN</td>\n",
       "      <td>NaN</td>\n",
       "    </tr>\n",
       "    <tr>\n",
       "      <th>woh</th>\n",
       "      <td>NaN</td>\n",
       "      <td>NaN</td>\n",
       "      <td>NaN</td>\n",
       "      <td>NaN</td>\n",
       "      <td>NaN</td>\n",
       "      <td>NaN</td>\n",
       "      <td>NaN</td>\n",
       "      <td>NaN</td>\n",
       "      <td>NaN</td>\n",
       "      <td>NaN</td>\n",
       "      <td>...</td>\n",
       "      <td>NaN</td>\n",
       "      <td>NaN</td>\n",
       "      <td>NaN</td>\n",
       "      <td>NaN</td>\n",
       "      <td>NaN</td>\n",
       "      <td>NaN</td>\n",
       "      <td>NaN</td>\n",
       "      <td>NaN</td>\n",
       "      <td>NaN</td>\n",
       "      <td>NaN</td>\n",
       "    </tr>\n",
       "    <tr>\n",
       "      <th>(mostly) harmless</th>\n",
       "      <td>NaN</td>\n",
       "      <td>NaN</td>\n",
       "      <td>NaN</td>\n",
       "      <td>NaN</td>\n",
       "      <td>NaN</td>\n",
       "      <td>NaN</td>\n",
       "      <td>NaN</td>\n",
       "      <td>NaN</td>\n",
       "      <td>NaN</td>\n",
       "      <td>NaN</td>\n",
       "      <td>...</td>\n",
       "      <td>NaN</td>\n",
       "      <td>NaN</td>\n",
       "      <td>NaN</td>\n",
       "      <td>NaN</td>\n",
       "      <td>NaN</td>\n",
       "      <td>NaN</td>\n",
       "      <td>NaN</td>\n",
       "      <td>NaN</td>\n",
       "      <td>NaN</td>\n",
       "      <td>NaN</td>\n",
       "    </tr>\n",
       "    <tr>\n",
       "      <th>- V -</th>\n",
       "      <td>NaN</td>\n",
       "      <td>NaN</td>\n",
       "      <td>NaN</td>\n",
       "      <td>NaN</td>\n",
       "      <td>NaN</td>\n",
       "      <td>NaN</td>\n",
       "      <td>NaN</td>\n",
       "      <td>NaN</td>\n",
       "      <td>NaN</td>\n",
       "      <td>NaN</td>\n",
       "      <td>...</td>\n",
       "      <td>NaN</td>\n",
       "      <td>NaN</td>\n",
       "      <td>NaN</td>\n",
       "      <td>NaN</td>\n",
       "      <td>NaN</td>\n",
       "      <td>NaN</td>\n",
       "      <td>NaN</td>\n",
       "      <td>NaN</td>\n",
       "      <td>NaN</td>\n",
       "      <td>NaN</td>\n",
       "    </tr>\n",
       "  </tbody>\n",
       "</table>\n",
       "<p>5 rows × 2252 columns</p>\n",
       "</div>"
      ],
      "text/plain": [
       "name               1347: De Nigrae Pestis Ludo  \\\n",
       "user                                             \n",
       " beastvol                                  NaN   \n",
       " mycroft                                   NaN   \n",
       " woh                                       NaN   \n",
       "(mostly) harmless                          NaN   \n",
       "- V -                                      NaN   \n",
       "\n",
       "name               15 Dias: The Spanish Golden Age  1655: Habemus Papam  \\\n",
       "user                                                                      \n",
       " beastvol                                      NaN                  NaN   \n",
       " mycroft                                       NaN                  NaN   \n",
       " woh                                           NaN                  NaN   \n",
       "(mostly) harmless                              NaN                  NaN   \n",
       "- V -                                          NaN                  NaN   \n",
       "\n",
       "name               1800: Colorado  1812: The Cradle of Steam Railways  1817  \\\n",
       "user                                                                          \n",
       " beastvol                     NaN                                 NaN   NaN   \n",
       " mycroft                      NaN                                 NaN   NaN   \n",
       " woh                          NaN                                 NaN   NaN   \n",
       "(mostly) harmless             NaN                                 NaN   NaN   \n",
       "- V -                         NaN                                 NaN   NaN   \n",
       "\n",
       "name               1822: The Railways of Great Britain  1822MX  \\\n",
       "user                                                             \n",
       " beastvol                                          NaN     NaN   \n",
       " mycroft                                           NaN     NaN   \n",
       " woh                                               NaN     NaN   \n",
       "(mostly) harmless                                  NaN     NaN   \n",
       "- V -                                              NaN     NaN   \n",
       "\n",
       "name               1824: Austria-Hungary  1825 Unit 1  ...  Zapotec  \\\n",
       "user                                                   ...            \n",
       " beastvol                            NaN          NaN  ...      NaN   \n",
       " mycroft                             NaN          NaN  ...      NaN   \n",
       " woh                                 NaN          NaN  ...      NaN   \n",
       "(mostly) harmless                    NaN          NaN  ...      NaN   \n",
       "- V -                                NaN          NaN  ...      NaN   \n",
       "\n",
       "name               Zauberschwert & Drachenei  Zena 1814  Zeppelin Attack!  \\\n",
       "user                                                                        \n",
       " beastvol                                NaN        NaN               NaN   \n",
       " mycroft                                 NaN        NaN               NaN   \n",
       " woh                                     NaN        NaN               NaN   \n",
       "(mostly) harmless                        NaN        NaN               NaN   \n",
       "- V -                                    NaN        NaN               NaN   \n",
       "\n",
       "name               ZhanGuo  Zoff in Buffalo  Zoocracy  Zoon  \\\n",
       "user                                                          \n",
       " beastvol              NaN              NaN       NaN   NaN   \n",
       " mycroft               NaN              NaN       NaN   NaN   \n",
       " woh                   NaN              NaN       NaN   NaN   \n",
       "(mostly) harmless      NaN              NaN       NaN   NaN   \n",
       "- V -                  NaN              NaN       NaN   NaN   \n",
       "\n",
       "name               another damn Civilization game  oddball Äeronauts  \n",
       "user                                                                  \n",
       " beastvol                                     NaN                NaN  \n",
       " mycroft                                      NaN                NaN  \n",
       " woh                                          NaN                NaN  \n",
       "(mostly) harmless                             NaN                NaN  \n",
       "- V -                                         NaN                NaN  \n",
       "\n",
       "[5 rows x 2252 columns]"
      ]
     },
     "execution_count": 13,
     "metadata": {},
     "output_type": "execute_result"
    }
   ],
   "source": [
    "pivot = df_sg.pivot_table(index=['user'], columns=['name'], values='rating')\n",
    "pivot.head()"
   ]
  },
  {
   "cell_type": "code",
   "execution_count": 14,
   "id": "3ce75f09-5eb7-42f2-be67-64bb1cad64fd",
   "metadata": {},
   "outputs": [
    {
     "data": {
      "text/html": [
       "<div>\n",
       "<style scoped>\n",
       "    .dataframe tbody tr th:only-of-type {\n",
       "        vertical-align: middle;\n",
       "    }\n",
       "\n",
       "    .dataframe tbody tr th {\n",
       "        vertical-align: top;\n",
       "    }\n",
       "\n",
       "    .dataframe thead th {\n",
       "        text-align: right;\n",
       "    }\n",
       "</style>\n",
       "<table border=\"1\" class=\"dataframe\">\n",
       "  <thead>\n",
       "    <tr style=\"text-align: right;\">\n",
       "      <th>name</th>\n",
       "      <th>1347: De Nigrae Pestis Ludo</th>\n",
       "      <th>15 Dias: The Spanish Golden Age</th>\n",
       "      <th>1655: Habemus Papam</th>\n",
       "      <th>1800: Colorado</th>\n",
       "      <th>1812: The Cradle of Steam Railways</th>\n",
       "      <th>1817</th>\n",
       "      <th>1822: The Railways of Great Britain</th>\n",
       "      <th>1822MX</th>\n",
       "      <th>1824: Austria-Hungary</th>\n",
       "      <th>1825 Unit 1</th>\n",
       "      <th>...</th>\n",
       "      <th>Zapotec</th>\n",
       "      <th>Zauberschwert &amp; Drachenei</th>\n",
       "      <th>Zena 1814</th>\n",
       "      <th>Zeppelin Attack!</th>\n",
       "      <th>ZhanGuo</th>\n",
       "      <th>Zoff in Buffalo</th>\n",
       "      <th>Zoocracy</th>\n",
       "      <th>Zoon</th>\n",
       "      <th>another damn Civilization game</th>\n",
       "      <th>oddball Äeronauts</th>\n",
       "    </tr>\n",
       "    <tr>\n",
       "      <th>user</th>\n",
       "      <th></th>\n",
       "      <th></th>\n",
       "      <th></th>\n",
       "      <th></th>\n",
       "      <th></th>\n",
       "      <th></th>\n",
       "      <th></th>\n",
       "      <th></th>\n",
       "      <th></th>\n",
       "      <th></th>\n",
       "      <th></th>\n",
       "      <th></th>\n",
       "      <th></th>\n",
       "      <th></th>\n",
       "      <th></th>\n",
       "      <th></th>\n",
       "      <th></th>\n",
       "      <th></th>\n",
       "      <th></th>\n",
       "      <th></th>\n",
       "      <th></th>\n",
       "    </tr>\n",
       "  </thead>\n",
       "  <tbody>\n",
       "    <tr>\n",
       "      <th>beastvol</th>\n",
       "      <td>0.0</td>\n",
       "      <td>0.0</td>\n",
       "      <td>0.0</td>\n",
       "      <td>0.0</td>\n",
       "      <td>0.0</td>\n",
       "      <td>0.0</td>\n",
       "      <td>0.0</td>\n",
       "      <td>0.0</td>\n",
       "      <td>0.0</td>\n",
       "      <td>0.0</td>\n",
       "      <td>...</td>\n",
       "      <td>0.0</td>\n",
       "      <td>0.0</td>\n",
       "      <td>0.0</td>\n",
       "      <td>0.0</td>\n",
       "      <td>0.0</td>\n",
       "      <td>0.0</td>\n",
       "      <td>0.0</td>\n",
       "      <td>0.0</td>\n",
       "      <td>0.0</td>\n",
       "      <td>0.0</td>\n",
       "    </tr>\n",
       "    <tr>\n",
       "      <th>mycroft</th>\n",
       "      <td>0.0</td>\n",
       "      <td>0.0</td>\n",
       "      <td>0.0</td>\n",
       "      <td>0.0</td>\n",
       "      <td>0.0</td>\n",
       "      <td>0.0</td>\n",
       "      <td>0.0</td>\n",
       "      <td>0.0</td>\n",
       "      <td>0.0</td>\n",
       "      <td>0.0</td>\n",
       "      <td>...</td>\n",
       "      <td>0.0</td>\n",
       "      <td>0.0</td>\n",
       "      <td>0.0</td>\n",
       "      <td>0.0</td>\n",
       "      <td>0.0</td>\n",
       "      <td>0.0</td>\n",
       "      <td>0.0</td>\n",
       "      <td>0.0</td>\n",
       "      <td>0.0</td>\n",
       "      <td>0.0</td>\n",
       "    </tr>\n",
       "    <tr>\n",
       "      <th>woh</th>\n",
       "      <td>0.0</td>\n",
       "      <td>0.0</td>\n",
       "      <td>0.0</td>\n",
       "      <td>0.0</td>\n",
       "      <td>0.0</td>\n",
       "      <td>0.0</td>\n",
       "      <td>0.0</td>\n",
       "      <td>0.0</td>\n",
       "      <td>0.0</td>\n",
       "      <td>0.0</td>\n",
       "      <td>...</td>\n",
       "      <td>0.0</td>\n",
       "      <td>0.0</td>\n",
       "      <td>0.0</td>\n",
       "      <td>0.0</td>\n",
       "      <td>0.0</td>\n",
       "      <td>0.0</td>\n",
       "      <td>0.0</td>\n",
       "      <td>0.0</td>\n",
       "      <td>0.0</td>\n",
       "      <td>0.0</td>\n",
       "    </tr>\n",
       "    <tr>\n",
       "      <th>(mostly) harmless</th>\n",
       "      <td>0.0</td>\n",
       "      <td>0.0</td>\n",
       "      <td>0.0</td>\n",
       "      <td>0.0</td>\n",
       "      <td>0.0</td>\n",
       "      <td>0.0</td>\n",
       "      <td>0.0</td>\n",
       "      <td>0.0</td>\n",
       "      <td>0.0</td>\n",
       "      <td>0.0</td>\n",
       "      <td>...</td>\n",
       "      <td>0.0</td>\n",
       "      <td>0.0</td>\n",
       "      <td>0.0</td>\n",
       "      <td>0.0</td>\n",
       "      <td>0.0</td>\n",
       "      <td>0.0</td>\n",
       "      <td>0.0</td>\n",
       "      <td>0.0</td>\n",
       "      <td>0.0</td>\n",
       "      <td>0.0</td>\n",
       "    </tr>\n",
       "    <tr>\n",
       "      <th>- V -</th>\n",
       "      <td>0.0</td>\n",
       "      <td>0.0</td>\n",
       "      <td>0.0</td>\n",
       "      <td>0.0</td>\n",
       "      <td>0.0</td>\n",
       "      <td>0.0</td>\n",
       "      <td>0.0</td>\n",
       "      <td>0.0</td>\n",
       "      <td>0.0</td>\n",
       "      <td>0.0</td>\n",
       "      <td>...</td>\n",
       "      <td>0.0</td>\n",
       "      <td>0.0</td>\n",
       "      <td>0.0</td>\n",
       "      <td>0.0</td>\n",
       "      <td>0.0</td>\n",
       "      <td>0.0</td>\n",
       "      <td>0.0</td>\n",
       "      <td>0.0</td>\n",
       "      <td>0.0</td>\n",
       "      <td>0.0</td>\n",
       "    </tr>\n",
       "  </tbody>\n",
       "</table>\n",
       "<p>5 rows × 2252 columns</p>\n",
       "</div>"
      ],
      "text/plain": [
       "name               1347: De Nigrae Pestis Ludo  \\\n",
       "user                                             \n",
       " beastvol                                  0.0   \n",
       " mycroft                                   0.0   \n",
       " woh                                       0.0   \n",
       "(mostly) harmless                          0.0   \n",
       "- V -                                      0.0   \n",
       "\n",
       "name               15 Dias: The Spanish Golden Age  1655: Habemus Papam  \\\n",
       "user                                                                      \n",
       " beastvol                                      0.0                  0.0   \n",
       " mycroft                                       0.0                  0.0   \n",
       " woh                                           0.0                  0.0   \n",
       "(mostly) harmless                              0.0                  0.0   \n",
       "- V -                                          0.0                  0.0   \n",
       "\n",
       "name               1800: Colorado  1812: The Cradle of Steam Railways  1817  \\\n",
       "user                                                                          \n",
       " beastvol                     0.0                                 0.0   0.0   \n",
       " mycroft                      0.0                                 0.0   0.0   \n",
       " woh                          0.0                                 0.0   0.0   \n",
       "(mostly) harmless             0.0                                 0.0   0.0   \n",
       "- V -                         0.0                                 0.0   0.0   \n",
       "\n",
       "name               1822: The Railways of Great Britain  1822MX  \\\n",
       "user                                                             \n",
       " beastvol                                          0.0     0.0   \n",
       " mycroft                                           0.0     0.0   \n",
       " woh                                               0.0     0.0   \n",
       "(mostly) harmless                                  0.0     0.0   \n",
       "- V -                                              0.0     0.0   \n",
       "\n",
       "name               1824: Austria-Hungary  1825 Unit 1  ...  Zapotec  \\\n",
       "user                                                   ...            \n",
       " beastvol                            0.0          0.0  ...      0.0   \n",
       " mycroft                             0.0          0.0  ...      0.0   \n",
       " woh                                 0.0          0.0  ...      0.0   \n",
       "(mostly) harmless                    0.0          0.0  ...      0.0   \n",
       "- V -                                0.0          0.0  ...      0.0   \n",
       "\n",
       "name               Zauberschwert & Drachenei  Zena 1814  Zeppelin Attack!  \\\n",
       "user                                                                        \n",
       " beastvol                                0.0        0.0               0.0   \n",
       " mycroft                                 0.0        0.0               0.0   \n",
       " woh                                     0.0        0.0               0.0   \n",
       "(mostly) harmless                        0.0        0.0               0.0   \n",
       "- V -                                    0.0        0.0               0.0   \n",
       "\n",
       "name               ZhanGuo  Zoff in Buffalo  Zoocracy  Zoon  \\\n",
       "user                                                          \n",
       " beastvol              0.0              0.0       0.0   0.0   \n",
       " mycroft               0.0              0.0       0.0   0.0   \n",
       " woh                   0.0              0.0       0.0   0.0   \n",
       "(mostly) harmless      0.0              0.0       0.0   0.0   \n",
       "- V -                  0.0              0.0       0.0   0.0   \n",
       "\n",
       "name               another damn Civilization game  oddball Äeronauts  \n",
       "user                                                                  \n",
       " beastvol                                     0.0                0.0  \n",
       " mycroft                                      0.0                0.0  \n",
       " woh                                          0.0                0.0  \n",
       "(mostly) harmless                             0.0                0.0  \n",
       "- V -                                         0.0                0.0  \n",
       "\n",
       "[5 rows x 2252 columns]"
      ]
     },
     "execution_count": 14,
     "metadata": {},
     "output_type": "execute_result"
    }
   ],
   "source": [
    "# Filling NaN values with zero\n",
    "pivot.fillna(0, inplace=True)\n",
    "pivot.head()"
   ]
  },
  {
   "cell_type": "code",
   "execution_count": 15,
   "id": "ddacb22a-c3da-4577-a60b-4dd63b121902",
   "metadata": {},
   "outputs": [],
   "source": [
    "pivot = pivot.T"
   ]
  },
  {
   "cell_type": "code",
   "execution_count": 16,
   "id": "08c8241f-17bb-4caa-9e81-e8227dc8084e",
   "metadata": {},
   "outputs": [
    {
     "data": {
      "text/plain": [
       "(2252, 304738)"
      ]
     },
     "execution_count": 16,
     "metadata": {},
     "output_type": "execute_result"
    }
   ],
   "source": [
    "pivot.shape"
   ]
  },
  {
   "cell_type": "code",
   "execution_count": 17,
   "id": "fa0dff58-149e-4df8-be01-9cf9216bbb7b",
   "metadata": {},
   "outputs": [
    {
     "data": {
      "text/plain": [
       "(2252, 304738)"
      ]
     },
     "execution_count": 17,
     "metadata": {},
     "output_type": "execute_result"
    }
   ],
   "source": [
    "# Dropping columns with only zeroes\n",
    "pivot = pivot.loc[:, (pivot != 0).any(axis=0)]\n",
    "pivot.shape"
   ]
  },
  {
   "cell_type": "code",
   "execution_count": 18,
   "id": "ae588dfb-31cc-4ce6-bac7-4c48bd2f19e6",
   "metadata": {},
   "outputs": [],
   "source": [
    "piv_sparse = sp.sparse.csr_matrix(pivot.values)"
   ]
  },
  {
   "cell_type": "markdown",
   "id": "c27f67ff-025a-4a6d-9ff0-bdbc8e08cac4",
   "metadata": {},
   "source": [
    "<h1>Modeling</h1>"
   ]
  },
  {
   "cell_type": "code",
   "execution_count": 19,
   "id": "6cff31c9-228a-4ede-9bcf-e38e84f32f92",
   "metadata": {},
   "outputs": [],
   "source": [
    "boardgame_similarity = cosine_similarity(piv_sparse)"
   ]
  },
  {
   "cell_type": "code",
   "execution_count": 20,
   "id": "bb1a78a3-a761-4f79-812b-29edbccee4e8",
   "metadata": {},
   "outputs": [],
   "source": [
    "bg_sim_df = pd.DataFrame(boardgame_similarity, index=pivot.index, columns=pivot.index)"
   ]
  },
  {
   "cell_type": "code",
   "execution_count": 23,
   "id": "3db0370e-2af4-457b-b077-3d3b24818980",
   "metadata": {},
   "outputs": [
    {
     "data": {
      "text/plain": [
       "True"
      ]
     },
     "execution_count": 23,
     "metadata": {},
     "output_type": "execute_result"
    }
   ],
   "source": [
    "'Pandemic' in bg_sim_df.columns"
   ]
  },
  {
   "cell_type": "markdown",
   "id": "8bbc3ff4-a224-4d2f-9c20-5b19350c3e38",
   "metadata": {},
   "source": [
    "<h2>Making Recommendation - Example Boardgame: Pandemic</h2>"
   ]
  },
  {
   "cell_type": "code",
   "execution_count": 24,
   "id": "77b01efb-e0ac-43e9-af72-32c683b3b48c",
   "metadata": {},
   "outputs": [],
   "source": [
    "def bg_rec(bg_name):\n",
    "    number = 1\n",
    "    print(f\"Recommended because you like {bg_name}:\\n\")\n",
    "    for bg in bg_sim_df.sort_values(by = bg_name, ascending = False).index[1:6]:\n",
    "        print(f\"#{number}: {bg}, {round(bg_sim_df[bg][bg_name]*100,2)}% match\")\n",
    "        number +=1  "
   ]
  },
  {
   "cell_type": "code",
   "execution_count": 25,
   "id": "8a0cf777-5764-43a5-98bd-2938e007f239",
   "metadata": {},
   "outputs": [
    {
     "name": "stdout",
     "output_type": "stream",
     "text": [
      "Recommended because you like Pandemic:\n",
      "\n",
      "#1: 7 Wonders, 53.72% match\n",
      "#2: Dominion, 52.37% match\n",
      "#3: Small World, 49.12% match\n",
      "#4: Power Grid, 45.07% match\n",
      "#5: Agricola, 44.95% match\n"
     ]
    }
   ],
   "source": [
    "bg_rec('Pandemic')"
   ]
  },
  {
   "cell_type": "code",
   "execution_count": null,
   "id": "218c676b-a1eb-4881-a8db-a5161b56e053",
   "metadata": {},
   "outputs": [],
   "source": []
  }
 ],
 "metadata": {
  "kernelspec": {
   "display_name": "Python 3 (ipykernel)",
   "language": "python",
   "name": "python3"
  },
  "language_info": {
   "codemirror_mode": {
    "name": "ipython",
    "version": 3
   },
   "file_extension": ".py",
   "mimetype": "text/x-python",
   "name": "python",
   "nbconvert_exporter": "python",
   "pygments_lexer": "ipython3",
   "version": "3.10.13"
  }
 },
 "nbformat": 4,
 "nbformat_minor": 5
}
