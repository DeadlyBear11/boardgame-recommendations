{
 "cells": [
  {
   "cell_type": "markdown",
   "id": "b415599e-8725-4087-a7de-ee2fb45e0fa3",
   "metadata": {},
   "source": [
    "<h1>Data Analysis</h1>"
   ]
  },
  {
   "cell_type": "code",
   "execution_count": 1,
   "id": "496d815e-585e-4f65-a349-7e6b0c068b47",
   "metadata": {},
   "outputs": [],
   "source": [
    "import numpy as np\n",
    "import pandas as pd\n",
    "import matplotlib.pyplot as plt"
   ]
  },
  {
   "cell_type": "code",
   "execution_count": 2,
   "id": "58827f18-4777-4433-8f2f-00bbc69667b5",
   "metadata": {},
   "outputs": [
    {
     "data": {
      "text/html": [
       "<div>\n",
       "<style scoped>\n",
       "    .dataframe tbody tr th:only-of-type {\n",
       "        vertical-align: middle;\n",
       "    }\n",
       "\n",
       "    .dataframe tbody tr th {\n",
       "        vertical-align: top;\n",
       "    }\n",
       "\n",
       "    .dataframe thead th {\n",
       "        text-align: right;\n",
       "    }\n",
       "</style>\n",
       "<table border=\"1\" class=\"dataframe\">\n",
       "  <thead>\n",
       "    <tr style=\"text-align: right;\">\n",
       "      <th></th>\n",
       "      <th>id</th>\n",
       "      <th>name</th>\n",
       "      <th>yearpublished</th>\n",
       "      <th>rank</th>\n",
       "      <th>bayesaverage</th>\n",
       "      <th>average</th>\n",
       "      <th>usersrated</th>\n",
       "      <th>abstracts_rank</th>\n",
       "      <th>cgs_rank</th>\n",
       "      <th>childrensgames_rank</th>\n",
       "      <th>familygames_rank</th>\n",
       "      <th>partygames_rank</th>\n",
       "      <th>strategygames_rank</th>\n",
       "      <th>thematic_rank</th>\n",
       "      <th>wargames_rank</th>\n",
       "    </tr>\n",
       "  </thead>\n",
       "  <tbody>\n",
       "    <tr>\n",
       "      <th>0</th>\n",
       "      <td>224517</td>\n",
       "      <td>Brass: Birmingham</td>\n",
       "      <td>2018</td>\n",
       "      <td>1</td>\n",
       "      <td>8.41743</td>\n",
       "      <td>8.60008</td>\n",
       "      <td>44039</td>\n",
       "      <td>NaN</td>\n",
       "      <td>NaN</td>\n",
       "      <td>NaN</td>\n",
       "      <td>NaN</td>\n",
       "      <td>NaN</td>\n",
       "      <td>1.0</td>\n",
       "      <td>NaN</td>\n",
       "      <td>NaN</td>\n",
       "    </tr>\n",
       "    <tr>\n",
       "      <th>1</th>\n",
       "      <td>161936</td>\n",
       "      <td>Pandemic Legacy: Season 1</td>\n",
       "      <td>2015</td>\n",
       "      <td>2</td>\n",
       "      <td>8.38364</td>\n",
       "      <td>8.53060</td>\n",
       "      <td>52833</td>\n",
       "      <td>NaN</td>\n",
       "      <td>NaN</td>\n",
       "      <td>NaN</td>\n",
       "      <td>NaN</td>\n",
       "      <td>NaN</td>\n",
       "      <td>2.0</td>\n",
       "      <td>1.0</td>\n",
       "      <td>NaN</td>\n",
       "    </tr>\n",
       "    <tr>\n",
       "      <th>2</th>\n",
       "      <td>174430</td>\n",
       "      <td>Gloomhaven</td>\n",
       "      <td>2017</td>\n",
       "      <td>3</td>\n",
       "      <td>8.36326</td>\n",
       "      <td>8.59762</td>\n",
       "      <td>61363</td>\n",
       "      <td>NaN</td>\n",
       "      <td>NaN</td>\n",
       "      <td>NaN</td>\n",
       "      <td>NaN</td>\n",
       "      <td>NaN</td>\n",
       "      <td>4.0</td>\n",
       "      <td>2.0</td>\n",
       "      <td>NaN</td>\n",
       "    </tr>\n",
       "    <tr>\n",
       "      <th>3</th>\n",
       "      <td>342942</td>\n",
       "      <td>Ark Nova</td>\n",
       "      <td>2021</td>\n",
       "      <td>4</td>\n",
       "      <td>8.33370</td>\n",
       "      <td>8.53851</td>\n",
       "      <td>40777</td>\n",
       "      <td>NaN</td>\n",
       "      <td>NaN</td>\n",
       "      <td>NaN</td>\n",
       "      <td>NaN</td>\n",
       "      <td>NaN</td>\n",
       "      <td>3.0</td>\n",
       "      <td>NaN</td>\n",
       "      <td>NaN</td>\n",
       "    </tr>\n",
       "    <tr>\n",
       "      <th>4</th>\n",
       "      <td>233078</td>\n",
       "      <td>Twilight Imperium: Fourth Edition</td>\n",
       "      <td>2017</td>\n",
       "      <td>5</td>\n",
       "      <td>8.24294</td>\n",
       "      <td>8.60631</td>\n",
       "      <td>23096</td>\n",
       "      <td>NaN</td>\n",
       "      <td>NaN</td>\n",
       "      <td>NaN</td>\n",
       "      <td>NaN</td>\n",
       "      <td>NaN</td>\n",
       "      <td>5.0</td>\n",
       "      <td>3.0</td>\n",
       "      <td>NaN</td>\n",
       "    </tr>\n",
       "  </tbody>\n",
       "</table>\n",
       "</div>"
      ],
      "text/plain": [
       "       id                               name  yearpublished  rank  \\\n",
       "0  224517                  Brass: Birmingham           2018     1   \n",
       "1  161936          Pandemic Legacy: Season 1           2015     2   \n",
       "2  174430                         Gloomhaven           2017     3   \n",
       "3  342942                           Ark Nova           2021     4   \n",
       "4  233078  Twilight Imperium: Fourth Edition           2017     5   \n",
       "\n",
       "   bayesaverage  average  usersrated  abstracts_rank  cgs_rank  \\\n",
       "0       8.41743  8.60008       44039             NaN       NaN   \n",
       "1       8.38364  8.53060       52833             NaN       NaN   \n",
       "2       8.36326  8.59762       61363             NaN       NaN   \n",
       "3       8.33370  8.53851       40777             NaN       NaN   \n",
       "4       8.24294  8.60631       23096             NaN       NaN   \n",
       "\n",
       "   childrensgames_rank  familygames_rank  partygames_rank  strategygames_rank  \\\n",
       "0                  NaN               NaN              NaN                 1.0   \n",
       "1                  NaN               NaN              NaN                 2.0   \n",
       "2                  NaN               NaN              NaN                 4.0   \n",
       "3                  NaN               NaN              NaN                 3.0   \n",
       "4                  NaN               NaN              NaN                 5.0   \n",
       "\n",
       "   thematic_rank  wargames_rank  \n",
       "0            NaN            NaN  \n",
       "1            1.0            NaN  \n",
       "2            2.0            NaN  \n",
       "3            NaN            NaN  \n",
       "4            3.0            NaN  "
      ]
     },
     "execution_count": 2,
     "metadata": {},
     "output_type": "execute_result"
    }
   ],
   "source": [
    "df = pd.read_csv('boardgames_ranks.csv')\n",
    "df.head()"
   ]
  },
  {
   "cell_type": "code",
   "execution_count": 3,
   "id": "e17fade9-1cbb-4e2e-a249-1e84a0c2a708",
   "metadata": {},
   "outputs": [
    {
     "name": "stdout",
     "output_type": "stream",
     "text": [
      "There's 152705 different boardgames in this database.\n"
     ]
    }
   ],
   "source": [
    "print(f\"There's {len(df)} different boardgames in this database.\")"
   ]
  },
  {
   "cell_type": "markdown",
   "id": "20d8390f-ef0a-4822-b9ac-6727fd01d6a0",
   "metadata": {},
   "source": [
    "Check if the \"id\" column is made of unique values to transform it into the index."
   ]
  },
  {
   "cell_type": "code",
   "execution_count": 4,
   "id": "36e798a7-ad80-49bb-8258-4f86c3fbfa0e",
   "metadata": {},
   "outputs": [
    {
     "data": {
      "text/plain": [
       "True"
      ]
     },
     "execution_count": 4,
     "metadata": {},
     "output_type": "execute_result"
    }
   ],
   "source": [
    "len(df.id.values) == len(set(df.id.values))"
   ]
  },
  {
   "cell_type": "code",
   "execution_count": 5,
   "id": "cb50bdb8-550b-404e-9fd2-ea5008fe8b7d",
   "metadata": {},
   "outputs": [
    {
     "data": {
      "text/html": [
       "<div>\n",
       "<style scoped>\n",
       "    .dataframe tbody tr th:only-of-type {\n",
       "        vertical-align: middle;\n",
       "    }\n",
       "\n",
       "    .dataframe tbody tr th {\n",
       "        vertical-align: top;\n",
       "    }\n",
       "\n",
       "    .dataframe thead th {\n",
       "        text-align: right;\n",
       "    }\n",
       "</style>\n",
       "<table border=\"1\" class=\"dataframe\">\n",
       "  <thead>\n",
       "    <tr style=\"text-align: right;\">\n",
       "      <th></th>\n",
       "      <th>name</th>\n",
       "      <th>yearpublished</th>\n",
       "      <th>rank</th>\n",
       "      <th>bayesaverage</th>\n",
       "      <th>average</th>\n",
       "      <th>usersrated</th>\n",
       "      <th>abstracts_rank</th>\n",
       "      <th>cgs_rank</th>\n",
       "      <th>childrensgames_rank</th>\n",
       "      <th>familygames_rank</th>\n",
       "      <th>partygames_rank</th>\n",
       "      <th>strategygames_rank</th>\n",
       "      <th>thematic_rank</th>\n",
       "      <th>wargames_rank</th>\n",
       "    </tr>\n",
       "    <tr>\n",
       "      <th>id</th>\n",
       "      <th></th>\n",
       "      <th></th>\n",
       "      <th></th>\n",
       "      <th></th>\n",
       "      <th></th>\n",
       "      <th></th>\n",
       "      <th></th>\n",
       "      <th></th>\n",
       "      <th></th>\n",
       "      <th></th>\n",
       "      <th></th>\n",
       "      <th></th>\n",
       "      <th></th>\n",
       "      <th></th>\n",
       "    </tr>\n",
       "  </thead>\n",
       "  <tbody>\n",
       "    <tr>\n",
       "      <th>224517</th>\n",
       "      <td>Brass: Birmingham</td>\n",
       "      <td>2018</td>\n",
       "      <td>1</td>\n",
       "      <td>8.41743</td>\n",
       "      <td>8.60008</td>\n",
       "      <td>44039</td>\n",
       "      <td>NaN</td>\n",
       "      <td>NaN</td>\n",
       "      <td>NaN</td>\n",
       "      <td>NaN</td>\n",
       "      <td>NaN</td>\n",
       "      <td>1.0</td>\n",
       "      <td>NaN</td>\n",
       "      <td>NaN</td>\n",
       "    </tr>\n",
       "    <tr>\n",
       "      <th>161936</th>\n",
       "      <td>Pandemic Legacy: Season 1</td>\n",
       "      <td>2015</td>\n",
       "      <td>2</td>\n",
       "      <td>8.38364</td>\n",
       "      <td>8.53060</td>\n",
       "      <td>52833</td>\n",
       "      <td>NaN</td>\n",
       "      <td>NaN</td>\n",
       "      <td>NaN</td>\n",
       "      <td>NaN</td>\n",
       "      <td>NaN</td>\n",
       "      <td>2.0</td>\n",
       "      <td>1.0</td>\n",
       "      <td>NaN</td>\n",
       "    </tr>\n",
       "    <tr>\n",
       "      <th>174430</th>\n",
       "      <td>Gloomhaven</td>\n",
       "      <td>2017</td>\n",
       "      <td>3</td>\n",
       "      <td>8.36326</td>\n",
       "      <td>8.59762</td>\n",
       "      <td>61363</td>\n",
       "      <td>NaN</td>\n",
       "      <td>NaN</td>\n",
       "      <td>NaN</td>\n",
       "      <td>NaN</td>\n",
       "      <td>NaN</td>\n",
       "      <td>4.0</td>\n",
       "      <td>2.0</td>\n",
       "      <td>NaN</td>\n",
       "    </tr>\n",
       "    <tr>\n",
       "      <th>342942</th>\n",
       "      <td>Ark Nova</td>\n",
       "      <td>2021</td>\n",
       "      <td>4</td>\n",
       "      <td>8.33370</td>\n",
       "      <td>8.53851</td>\n",
       "      <td>40777</td>\n",
       "      <td>NaN</td>\n",
       "      <td>NaN</td>\n",
       "      <td>NaN</td>\n",
       "      <td>NaN</td>\n",
       "      <td>NaN</td>\n",
       "      <td>3.0</td>\n",
       "      <td>NaN</td>\n",
       "      <td>NaN</td>\n",
       "    </tr>\n",
       "    <tr>\n",
       "      <th>233078</th>\n",
       "      <td>Twilight Imperium: Fourth Edition</td>\n",
       "      <td>2017</td>\n",
       "      <td>5</td>\n",
       "      <td>8.24294</td>\n",
       "      <td>8.60631</td>\n",
       "      <td>23096</td>\n",
       "      <td>NaN</td>\n",
       "      <td>NaN</td>\n",
       "      <td>NaN</td>\n",
       "      <td>NaN</td>\n",
       "      <td>NaN</td>\n",
       "      <td>5.0</td>\n",
       "      <td>3.0</td>\n",
       "      <td>NaN</td>\n",
       "    </tr>\n",
       "  </tbody>\n",
       "</table>\n",
       "</div>"
      ],
      "text/plain": [
       "                                     name  yearpublished  rank  bayesaverage  \\\n",
       "id                                                                             \n",
       "224517                  Brass: Birmingham           2018     1       8.41743   \n",
       "161936          Pandemic Legacy: Season 1           2015     2       8.38364   \n",
       "174430                         Gloomhaven           2017     3       8.36326   \n",
       "342942                           Ark Nova           2021     4       8.33370   \n",
       "233078  Twilight Imperium: Fourth Edition           2017     5       8.24294   \n",
       "\n",
       "        average  usersrated  abstracts_rank  cgs_rank  childrensgames_rank  \\\n",
       "id                                                                           \n",
       "224517  8.60008       44039             NaN       NaN                  NaN   \n",
       "161936  8.53060       52833             NaN       NaN                  NaN   \n",
       "174430  8.59762       61363             NaN       NaN                  NaN   \n",
       "342942  8.53851       40777             NaN       NaN                  NaN   \n",
       "233078  8.60631       23096             NaN       NaN                  NaN   \n",
       "\n",
       "        familygames_rank  partygames_rank  strategygames_rank  thematic_rank  \\\n",
       "id                                                                             \n",
       "224517               NaN              NaN                 1.0            NaN   \n",
       "161936               NaN              NaN                 2.0            1.0   \n",
       "174430               NaN              NaN                 4.0            2.0   \n",
       "342942               NaN              NaN                 3.0            NaN   \n",
       "233078               NaN              NaN                 5.0            3.0   \n",
       "\n",
       "        wargames_rank  \n",
       "id                     \n",
       "224517            NaN  \n",
       "161936            NaN  \n",
       "174430            NaN  \n",
       "342942            NaN  \n",
       "233078            NaN  "
      ]
     },
     "execution_count": 5,
     "metadata": {},
     "output_type": "execute_result"
    }
   ],
   "source": [
    "df.set_index('id', inplace=True)\n",
    "df.head()"
   ]
  },
  {
   "cell_type": "markdown",
   "id": "028ea858-cf16-414c-ba05-5ec90141284e",
   "metadata": {},
   "source": [
    "Take care of the NaN values."
   ]
  },
  {
   "cell_type": "code",
   "execution_count": 6,
   "id": "ac573069-c2df-4bb9-a02d-c32642f4fbeb",
   "metadata": {},
   "outputs": [
    {
     "data": {
      "text/plain": [
       "False"
      ]
     },
     "execution_count": 6,
     "metadata": {},
     "output_type": "execute_result"
    }
   ],
   "source": [
    "df.fillna(0, inplace=True)\n",
    "df.isnull().any().any()"
   ]
  },
  {
   "cell_type": "code",
   "execution_count": 7,
   "id": "673dc2c8-2720-46e8-b826-eba1ca60177b",
   "metadata": {},
   "outputs": [
    {
     "data": {
      "text/plain": [
       "yearpublished\n",
       " 0       11378\n",
       " 2019     7727\n",
       " 2018     7213\n",
       " 2020     7165\n",
       " 2021     6980\n",
       "         ...  \n",
       " 1575        1\n",
       "-700         1\n",
       " 1807        1\n",
       " 1202        1\n",
       " 1613        1\n",
       "Name: count, Length: 336, dtype: int64"
      ]
     },
     "execution_count": 7,
     "metadata": {},
     "output_type": "execute_result"
    }
   ],
   "source": [
    "df.yearpublished.value_counts()"
   ]
  },
  {
   "cell_type": "code",
   "execution_count": 13,
   "id": "93985473-6c71-4253-8804-750b8e8e408e",
   "metadata": {},
   "outputs": [
    {
     "name": "stdout",
     "output_type": "stream",
     "text": [
      "There's 11378 boardgames that were publised in an unknown year.\n"
     ]
    }
   ],
   "source": [
    "print(f\"There's {len(df[df.yearpublished == 0])} boardgames that were publised in an unknown year.\")"
   ]
  },
  {
   "cell_type": "markdown",
   "id": "4cd03e39-75c7-41e0-b06e-f993aca60b34",
   "metadata": {},
   "source": [
    "Let's check how many boardgames were invented in the BC era and which one is the oldest boardgame."
   ]
  },
  {
   "cell_type": "code",
   "execution_count": 7,
   "id": "36710bd9-d4ff-4d89-8b9c-9d7b9675291c",
   "metadata": {},
   "outputs": [
    {
     "name": "stdout",
     "output_type": "stream",
     "text": [
      "22\n"
     ]
    },
    {
     "data": {
      "text/html": [
       "<div>\n",
       "<style scoped>\n",
       "    .dataframe tbody tr th:only-of-type {\n",
       "        vertical-align: middle;\n",
       "    }\n",
       "\n",
       "    .dataframe tbody tr th {\n",
       "        vertical-align: top;\n",
       "    }\n",
       "\n",
       "    .dataframe thead th {\n",
       "        text-align: right;\n",
       "    }\n",
       "</style>\n",
       "<table border=\"1\" class=\"dataframe\">\n",
       "  <thead>\n",
       "    <tr style=\"text-align: right;\">\n",
       "      <th></th>\n",
       "      <th>name</th>\n",
       "      <th>yearpublished</th>\n",
       "      <th>rank</th>\n",
       "      <th>bayesaverage</th>\n",
       "      <th>average</th>\n",
       "      <th>usersrated</th>\n",
       "      <th>abstracts_rank</th>\n",
       "      <th>cgs_rank</th>\n",
       "      <th>childrensgames_rank</th>\n",
       "      <th>familygames_rank</th>\n",
       "      <th>partygames_rank</th>\n",
       "      <th>strategygames_rank</th>\n",
       "      <th>thematic_rank</th>\n",
       "      <th>wargames_rank</th>\n",
       "    </tr>\n",
       "    <tr>\n",
       "      <th>id</th>\n",
       "      <th></th>\n",
       "      <th></th>\n",
       "      <th></th>\n",
       "      <th></th>\n",
       "      <th></th>\n",
       "      <th></th>\n",
       "      <th></th>\n",
       "      <th></th>\n",
       "      <th></th>\n",
       "      <th></th>\n",
       "      <th></th>\n",
       "      <th></th>\n",
       "      <th></th>\n",
       "      <th></th>\n",
       "    </tr>\n",
       "  </thead>\n",
       "  <tbody>\n",
       "    <tr>\n",
       "      <th>2399</th>\n",
       "      <td>Senet</td>\n",
       "      <td>-3500</td>\n",
       "      <td>10078</td>\n",
       "      <td>5.56963</td>\n",
       "      <td>5.82846</td>\n",
       "      <td>831</td>\n",
       "      <td>898.0</td>\n",
       "      <td>0.0</td>\n",
       "      <td>0.0</td>\n",
       "      <td>0.0</td>\n",
       "      <td>0.0</td>\n",
       "      <td>0.0</td>\n",
       "      <td>0.0</td>\n",
       "      <td>0.0</td>\n",
       "    </tr>\n",
       "  </tbody>\n",
       "</table>\n",
       "</div>"
      ],
      "text/plain": [
       "       name  yearpublished   rank  bayesaverage  average  usersrated  \\\n",
       "id                                                                     \n",
       "2399  Senet          -3500  10078       5.56963  5.82846         831   \n",
       "\n",
       "      abstracts_rank  cgs_rank  childrensgames_rank  familygames_rank  \\\n",
       "id                                                                      \n",
       "2399           898.0       0.0                  0.0               0.0   \n",
       "\n",
       "      partygames_rank  strategygames_rank  thematic_rank  wargames_rank  \n",
       "id                                                                       \n",
       "2399              0.0                 0.0            0.0            0.0  "
      ]
     },
     "execution_count": 7,
     "metadata": {},
     "output_type": "execute_result"
    }
   ],
   "source": [
    "old_bgs = df[df.yearpublished < 0]\n",
    "print(len(old_bgs))\n",
    "old_bgs[old_bgs.yearpublished == old_bgs.yearpublished.min()]"
   ]
  },
  {
   "cell_type": "markdown",
   "id": "d3b10739-adeb-4479-a82b-61901b6ffbf2",
   "metadata": {},
   "source": [
    "The oldest game is called Senet and it was invented in the year 3500 BC."
   ]
  },
  {
   "cell_type": "markdown",
   "id": "4317f787-d738-4d4a-9e06-1a6dc812910d",
   "metadata": {},
   "source": [
    "Now, let's check out how many boardgames have come out and are gonna come out since 2020. Also let's take a look at the most recent boardgames included on this data."
   ]
  },
  {
   "cell_type": "code",
   "execution_count": 8,
   "id": "3bd45879-cb87-4888-9582-147d759248d7",
   "metadata": {},
   "outputs": [
    {
     "name": "stdout",
     "output_type": "stream",
     "text": [
      "Boardgames published since 2020: 23667.\n"
     ]
    },
    {
     "data": {
      "text/html": [
       "<div>\n",
       "<style scoped>\n",
       "    .dataframe tbody tr th:only-of-type {\n",
       "        vertical-align: middle;\n",
       "    }\n",
       "\n",
       "    .dataframe tbody tr th {\n",
       "        vertical-align: top;\n",
       "    }\n",
       "\n",
       "    .dataframe thead th {\n",
       "        text-align: right;\n",
       "    }\n",
       "</style>\n",
       "<table border=\"1\" class=\"dataframe\">\n",
       "  <thead>\n",
       "    <tr style=\"text-align: right;\">\n",
       "      <th></th>\n",
       "      <th>name</th>\n",
       "      <th>yearpublished</th>\n",
       "      <th>rank</th>\n",
       "      <th>bayesaverage</th>\n",
       "      <th>average</th>\n",
       "      <th>usersrated</th>\n",
       "      <th>abstracts_rank</th>\n",
       "      <th>cgs_rank</th>\n",
       "      <th>childrensgames_rank</th>\n",
       "      <th>familygames_rank</th>\n",
       "      <th>partygames_rank</th>\n",
       "      <th>strategygames_rank</th>\n",
       "      <th>thematic_rank</th>\n",
       "      <th>wargames_rank</th>\n",
       "    </tr>\n",
       "    <tr>\n",
       "      <th>id</th>\n",
       "      <th></th>\n",
       "      <th></th>\n",
       "      <th></th>\n",
       "      <th></th>\n",
       "      <th></th>\n",
       "      <th></th>\n",
       "      <th></th>\n",
       "      <th></th>\n",
       "      <th></th>\n",
       "      <th></th>\n",
       "      <th></th>\n",
       "      <th></th>\n",
       "      <th></th>\n",
       "      <th></th>\n",
       "    </tr>\n",
       "  </thead>\n",
       "  <tbody>\n",
       "    <tr>\n",
       "      <th>217711</th>\n",
       "      <td>Kingdom Death: Monster – Ivory Dragon Expansion</td>\n",
       "      <td>2026</td>\n",
       "      <td>0</td>\n",
       "      <td>0.0</td>\n",
       "      <td>8.25</td>\n",
       "      <td>8</td>\n",
       "      <td>0.0</td>\n",
       "      <td>0.0</td>\n",
       "      <td>0.0</td>\n",
       "      <td>0.0</td>\n",
       "      <td>0.0</td>\n",
       "      <td>0.0</td>\n",
       "      <td>0.0</td>\n",
       "      <td>0.0</td>\n",
       "    </tr>\n",
       "    <tr>\n",
       "      <th>219251</th>\n",
       "      <td>Kingdom Death: Monster – Super Survivors Promo...</td>\n",
       "      <td>2026</td>\n",
       "      <td>0</td>\n",
       "      <td>0.0</td>\n",
       "      <td>8.80</td>\n",
       "      <td>5</td>\n",
       "      <td>0.0</td>\n",
       "      <td>0.0</td>\n",
       "      <td>0.0</td>\n",
       "      <td>0.0</td>\n",
       "      <td>0.0</td>\n",
       "      <td>0.0</td>\n",
       "      <td>0.0</td>\n",
       "      <td>0.0</td>\n",
       "    </tr>\n",
       "    <tr>\n",
       "      <th>279876</th>\n",
       "      <td>Template of War</td>\n",
       "      <td>2026</td>\n",
       "      <td>0</td>\n",
       "      <td>0.0</td>\n",
       "      <td>0.00</td>\n",
       "      <td>0</td>\n",
       "      <td>0.0</td>\n",
       "      <td>0.0</td>\n",
       "      <td>0.0</td>\n",
       "      <td>0.0</td>\n",
       "      <td>0.0</td>\n",
       "      <td>0.0</td>\n",
       "      <td>0.0</td>\n",
       "      <td>0.0</td>\n",
       "    </tr>\n",
       "    <tr>\n",
       "      <th>304759</th>\n",
       "      <td>Medieval Royale</td>\n",
       "      <td>2026</td>\n",
       "      <td>0</td>\n",
       "      <td>0.0</td>\n",
       "      <td>0.00</td>\n",
       "      <td>0</td>\n",
       "      <td>0.0</td>\n",
       "      <td>0.0</td>\n",
       "      <td>0.0</td>\n",
       "      <td>0.0</td>\n",
       "      <td>0.0</td>\n",
       "      <td>0.0</td>\n",
       "      <td>0.0</td>\n",
       "      <td>0.0</td>\n",
       "    </tr>\n",
       "    <tr>\n",
       "      <th>304871</th>\n",
       "      <td>Robot Like You</td>\n",
       "      <td>2026</td>\n",
       "      <td>0</td>\n",
       "      <td>0.0</td>\n",
       "      <td>0.00</td>\n",
       "      <td>0</td>\n",
       "      <td>0.0</td>\n",
       "      <td>0.0</td>\n",
       "      <td>0.0</td>\n",
       "      <td>0.0</td>\n",
       "      <td>0.0</td>\n",
       "      <td>0.0</td>\n",
       "      <td>0.0</td>\n",
       "      <td>0.0</td>\n",
       "    </tr>\n",
       "    <tr>\n",
       "      <th>325429</th>\n",
       "      <td>Citytrip Paris</td>\n",
       "      <td>2026</td>\n",
       "      <td>0</td>\n",
       "      <td>0.0</td>\n",
       "      <td>0.00</td>\n",
       "      <td>0</td>\n",
       "      <td>0.0</td>\n",
       "      <td>0.0</td>\n",
       "      <td>0.0</td>\n",
       "      <td>0.0</td>\n",
       "      <td>0.0</td>\n",
       "      <td>0.0</td>\n",
       "      <td>0.0</td>\n",
       "      <td>0.0</td>\n",
       "    </tr>\n",
       "    <tr>\n",
       "      <th>331318</th>\n",
       "      <td>Citytrip Junior</td>\n",
       "      <td>2026</td>\n",
       "      <td>0</td>\n",
       "      <td>0.0</td>\n",
       "      <td>0.00</td>\n",
       "      <td>0</td>\n",
       "      <td>0.0</td>\n",
       "      <td>0.0</td>\n",
       "      <td>0.0</td>\n",
       "      <td>0.0</td>\n",
       "      <td>0.0</td>\n",
       "      <td>0.0</td>\n",
       "      <td>0.0</td>\n",
       "      <td>0.0</td>\n",
       "    </tr>\n",
       "    <tr>\n",
       "      <th>404324</th>\n",
       "      <td>Darkwoods</td>\n",
       "      <td>2026</td>\n",
       "      <td>0</td>\n",
       "      <td>0.0</td>\n",
       "      <td>0.00</td>\n",
       "      <td>0</td>\n",
       "      <td>0.0</td>\n",
       "      <td>0.0</td>\n",
       "      <td>0.0</td>\n",
       "      <td>0.0</td>\n",
       "      <td>0.0</td>\n",
       "      <td>0.0</td>\n",
       "      <td>0.0</td>\n",
       "      <td>0.0</td>\n",
       "    </tr>\n",
       "    <tr>\n",
       "      <th>411725</th>\n",
       "      <td>Sons of Heracles</td>\n",
       "      <td>2026</td>\n",
       "      <td>0</td>\n",
       "      <td>0.0</td>\n",
       "      <td>0.00</td>\n",
       "      <td>0</td>\n",
       "      <td>0.0</td>\n",
       "      <td>0.0</td>\n",
       "      <td>0.0</td>\n",
       "      <td>0.0</td>\n",
       "      <td>0.0</td>\n",
       "      <td>0.0</td>\n",
       "      <td>0.0</td>\n",
       "      <td>0.0</td>\n",
       "    </tr>\n",
       "    <tr>\n",
       "      <th>415216</th>\n",
       "      <td>Hunter's Crest: Darkwood</td>\n",
       "      <td>2026</td>\n",
       "      <td>0</td>\n",
       "      <td>0.0</td>\n",
       "      <td>0.00</td>\n",
       "      <td>0</td>\n",
       "      <td>0.0</td>\n",
       "      <td>0.0</td>\n",
       "      <td>0.0</td>\n",
       "      <td>0.0</td>\n",
       "      <td>0.0</td>\n",
       "      <td>0.0</td>\n",
       "      <td>0.0</td>\n",
       "      <td>0.0</td>\n",
       "    </tr>\n",
       "  </tbody>\n",
       "</table>\n",
       "</div>"
      ],
      "text/plain": [
       "                                                     name  yearpublished  \\\n",
       "id                                                                         \n",
       "217711    Kingdom Death: Monster – Ivory Dragon Expansion           2026   \n",
       "219251  Kingdom Death: Monster – Super Survivors Promo...           2026   \n",
       "279876                                    Template of War           2026   \n",
       "304759                                    Medieval Royale           2026   \n",
       "304871                                     Robot Like You           2026   \n",
       "325429                                     Citytrip Paris           2026   \n",
       "331318                                    Citytrip Junior           2026   \n",
       "404324                                          Darkwoods           2026   \n",
       "411725                                   Sons of Heracles           2026   \n",
       "415216                           Hunter's Crest: Darkwood           2026   \n",
       "\n",
       "        rank  bayesaverage  average  usersrated  abstracts_rank  cgs_rank  \\\n",
       "id                                                                          \n",
       "217711     0           0.0     8.25           8             0.0       0.0   \n",
       "219251     0           0.0     8.80           5             0.0       0.0   \n",
       "279876     0           0.0     0.00           0             0.0       0.0   \n",
       "304759     0           0.0     0.00           0             0.0       0.0   \n",
       "304871     0           0.0     0.00           0             0.0       0.0   \n",
       "325429     0           0.0     0.00           0             0.0       0.0   \n",
       "331318     0           0.0     0.00           0             0.0       0.0   \n",
       "404324     0           0.0     0.00           0             0.0       0.0   \n",
       "411725     0           0.0     0.00           0             0.0       0.0   \n",
       "415216     0           0.0     0.00           0             0.0       0.0   \n",
       "\n",
       "        childrensgames_rank  familygames_rank  partygames_rank  \\\n",
       "id                                                               \n",
       "217711                  0.0               0.0              0.0   \n",
       "219251                  0.0               0.0              0.0   \n",
       "279876                  0.0               0.0              0.0   \n",
       "304759                  0.0               0.0              0.0   \n",
       "304871                  0.0               0.0              0.0   \n",
       "325429                  0.0               0.0              0.0   \n",
       "331318                  0.0               0.0              0.0   \n",
       "404324                  0.0               0.0              0.0   \n",
       "411725                  0.0               0.0              0.0   \n",
       "415216                  0.0               0.0              0.0   \n",
       "\n",
       "        strategygames_rank  thematic_rank  wargames_rank  \n",
       "id                                                        \n",
       "217711                 0.0            0.0            0.0  \n",
       "219251                 0.0            0.0            0.0  \n",
       "279876                 0.0            0.0            0.0  \n",
       "304759                 0.0            0.0            0.0  \n",
       "304871                 0.0            0.0            0.0  \n",
       "325429                 0.0            0.0            0.0  \n",
       "331318                 0.0            0.0            0.0  \n",
       "404324                 0.0            0.0            0.0  \n",
       "411725                 0.0            0.0            0.0  \n",
       "415216                 0.0            0.0            0.0  "
      ]
     },
     "execution_count": 8,
     "metadata": {},
     "output_type": "execute_result"
    }
   ],
   "source": [
    "recent_bgs = df[df.yearpublished > 2020]\n",
    "print(f\"Boardgames published since 2020: {len(recent_bgs)}.\")\n",
    "recent_bgs[recent_bgs.yearpublished == recent_bgs.yearpublished.max()]"
   ]
  },
  {
   "cell_type": "code",
   "execution_count": 9,
   "id": "85e6d762-df0a-4349-a14d-42309038c472",
   "metadata": {},
   "outputs": [],
   "source": [
    "years = list(set(df.yearpublished))\n",
    "years.remove(0)\n",
    "years.sort()"
   ]
  },
  {
   "cell_type": "code",
   "execution_count": 10,
   "id": "56fae94d-5ef1-41a9-ac47-b1e11d801653",
   "metadata": {},
   "outputs": [
    {
     "data": {
      "text/plain": [
       "10"
      ]
     },
     "execution_count": 10,
     "metadata": {},
     "output_type": "execute_result"
    }
   ],
   "source": [
    "years_counts = {}\n",
    "for year in years:\n",
    "    counts = len(df[df.yearpublished == year])\n",
    "    years_counts[year] = counts\n",
    "years_counts[2026]"
   ]
  },
  {
   "cell_type": "code",
   "execution_count": 11,
   "id": "b1b235c7-fda1-4e1b-a344-92c0febdf2a7",
   "metadata": {},
   "outputs": [
    {
     "data": {
      "image/png": "[encoded data removed]",
      "text/plain": [
       "<Figure size 1100x500 with 1 Axes>"
      ]
     },
     "metadata": {},
     "output_type": "display_data"
    }
   ],
   "source": [
    "plt.figure(figsize=(11, 5))\n",
    "plt.scatter(years_counts.keys(), years_counts.values())\n",
    "plt.title('Ammount of Boardgames by Year');"
   ]
  },
  {
   "cell_type": "markdown",
   "id": "5dfad634-e472-4f4f-8dd2-1100743e9c6f",
   "metadata": {},
   "source": [
    "Boardgame publishing has exploded in recent times compared to the past. Let's try to zoom into more recent years to see the growth more detailed."
   ]
  },
  {
   "cell_type": "code",
   "execution_count": 12,
   "id": "713bb922-5c2b-4525-b81c-3969dd2c1067",
   "metadata": {},
   "outputs": [
    {
     "data": {
      "text/plain": [
       "10"
      ]
     },
     "execution_count": 12,
     "metadata": {},
     "output_type": "execute_result"
    }
   ],
   "source": [
    "recent_yc = {}\n",
    "for k,v in years_counts.items():\n",
    "    if k > 1900:\n",
    "        recent_yc[k] = v\n",
    "    else:\n",
    "        pass\n",
    "recent_yc[2026]"
   ]
  },
  {
   "cell_type": "code",
   "execution_count": 13,
   "id": "fc46b566-6f9c-4948-a597-a4d3e794198e",
   "metadata": {},
   "outputs": [
    {
     "data": {
      "image/png": "[encoded data removed]",
      "text/plain": [
       "<Figure size 1100x500 with 1 Axes>"
      ]
     },
     "metadata": {},
     "output_type": "display_data"
    }
   ],
   "source": [
    "plt.figure(figsize=(11, 5))\n",
    "plt.scatter(recent_yc.keys(), recent_yc.values())\n",
    "plt.title('Ammount of Boardgames by Year in Recent Years');"
   ]
  },
  {
   "cell_type": "markdown",
   "id": "6c356e35-a24c-4845-8a8c-0388886ef729",
   "metadata": {},
   "source": [
    "Find the year with the highest ammount of published boardgames."
   ]
  },
  {
   "cell_type": "code",
   "execution_count": 14,
   "id": "4716fa97-b318-49a4-bf70-3c68f0d92de0",
   "metadata": {},
   "outputs": [
    {
     "data": {
      "text/plain": [
       "7727"
      ]
     },
     "execution_count": 14,
     "metadata": {},
     "output_type": "execute_result"
    }
   ],
   "source": [
    "max_ammount = np.max(list(years_counts.values()))\n",
    "max_ammount"
   ]
  },
  {
   "cell_type": "code",
   "execution_count": 15,
   "id": "03bcf122-7e99-4483-bee1-94e0ce2471f5",
   "metadata": {},
   "outputs": [
    {
     "name": "stdout",
     "output_type": "stream",
     "text": [
      "The year with the highest published boardgames is 2019 with 7727 of games published.\n"
     ]
    }
   ],
   "source": [
    "max_year = [k for k, v in years_counts.items() if v == max_ammount]\n",
    "print(f\"The year with the highest published boardgames is {max_year[0]} with {max_ammount} of games published.\")"
   ]
  },
  {
   "cell_type": "markdown",
   "id": "46be9f70-50c5-43e5-a0ec-1c2c048f6ee3",
   "metadata": {},
   "source": [
    "Let's analyse the different genres."
   ]
  },
  {
   "cell_type": "code",
   "execution_count": 16,
   "id": "db2810a6-a45e-43a6-ab71-0a3598f9f2d2",
   "metadata": {},
   "outputs": [
    {
     "data": {
      "text/plain": [
       "['abstracts_rank',\n",
       " 'cgs_rank',\n",
       " 'childrensgames_rank',\n",
       " 'familygames_rank',\n",
       " 'partygames_rank',\n",
       " 'strategygames_rank',\n",
       " 'thematic_rank',\n",
       " 'wargames_rank']"
      ]
     },
     "execution_count": 16,
     "metadata": {},
     "output_type": "execute_result"
    }
   ],
   "source": [
    "genres_labels = df.columns[6:].to_list()\n",
    "genres_labels"
   ]
  },
  {
   "cell_type": "markdown",
   "id": "7fd95c6c-f928-4c95-a40a-4a83d0214c32",
   "metadata": {},
   "source": [
    "Let's check if all these columns have no missing values or repeated values since they are rankings."
   ]
  },
  {
   "cell_type": "code",
   "execution_count": 36,
   "id": "57b67bd5-7703-455a-8ecb-d3f23d9998ef",
   "metadata": {},
   "outputs": [
    {
     "name": "stdout",
     "output_type": "stream",
     "text": [
      "abstracts_rank is complete and correct.\n",
      "cgs_rank is complete and correct.\n",
      "childrensgames_rank is complete and correct.\n",
      "familygames_rank is complete and correct.\n",
      "partygames_rank is complete and correct.\n",
      "strategygames_rank is complete and correct.\n",
      "thematic_rank is complete and correct.\n",
      "wargames_rank is complete and correct.\n"
     ]
    }
   ],
   "source": [
    "for genre in genres_labels:\n",
    "    if len(df[genre][df[genre] > 0]) == len(set(df[genre][df[genre] > 0])):\n",
    "        print(f\"{genre} is complete and correct.\")\n",
    "    else:\n",
    "        print(f\"{genre} is incomplete or has repeated values.\")"
   ]
  },
  {
   "cell_type": "code",
   "execution_count": 17,
   "id": "5d770aa9-aad4-47e0-8a6c-3d04ccde941b",
   "metadata": {},
   "outputs": [
    {
     "name": "stdout",
     "output_type": "stream",
     "text": [
      "abstracts: 1418.\n",
      "cgs: 350.\n",
      "childrensgames: 1045.\n",
      "familygames: 3132.\n",
      "partygames: 886.\n",
      "strategygames: 2880.\n",
      "thematic: 1596.\n",
      "wargames: 4200.\n"
     ]
    }
   ],
   "source": [
    "genre_counts = {}\n",
    "for genre in genres_labels:\n",
    "    counts = len(df[df[genre] > 0])\n",
    "    print(f\"{genre[:-5]}: {counts}.\")\n",
    "    genre_counts[genre[:-5]] = counts"
   ]
  },
  {
   "cell_type": "code",
   "execution_count": 18,
   "id": "59222d2e-8913-4380-90a3-ef307710c530",
   "metadata": {},
   "outputs": [
    {
     "data": {
      "image/png": "[encoded data removed]",
      "text/plain": [
       "<Figure size 1100x500 with 1 Axes>"
      ]
     },
     "metadata": {},
     "output_type": "display_data"
    }
   ],
   "source": [
    "plt.figure(figsize=(11, 5))\n",
    "plt.bar(genre_counts.keys(), genre_counts.values())\n",
    "plt.title('Boardgame Genre Counts');"
   ]
  },
  {
   "cell_type": "code",
   "execution_count": 19,
   "id": "3da7f674-ae08-4f67-83c9-93a82cc40ab6",
   "metadata": {},
   "outputs": [
    {
     "data": {
      "image/png": "[encoded data removed]",
      "text/plain": [
       "<Figure size 640x480 with 1 Axes>"
      ]
     },
     "metadata": {},
     "output_type": "display_data"
    }
   ],
   "source": [
    "plt.pie(genre_counts.values(), labels=genre_counts.keys(), autopct='%1.1f%%')\n",
    "plt.title('Boardgame Genre Proportions');"
   ]
  },
  {
   "cell_type": "code",
   "execution_count": null,
   "id": "1c85c39b-c8a9-4018-be9f-8b360b25cf10",
   "metadata": {},
   "outputs": [],
   "source": []
  }
 ],
 "metadata": {
  "kernelspec": {
   "display_name": "Python 3 (ipykernel)",
   "language": "python",
   "name": "python3"
  },
  "language_info": {
   "codemirror_mode": {
    "name": "ipython",
    "version": 3
   },
   "file_extension": ".py",
   "mimetype": "text/x-python",
   "name": "python",
   "nbconvert_exporter": "python",
   "pygments_lexer": "ipython3",
   "version": "3.10.13"
  }
 },
 "nbformat": 4,
 "nbformat_minor": 5
}
