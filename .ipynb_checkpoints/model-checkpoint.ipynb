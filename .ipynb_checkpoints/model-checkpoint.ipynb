{
 "cells": [
  {
   "cell_type": "markdown",
   "id": "bd07c788-fd95-4d4e-8647-aca5329ee5f8",
   "metadata": {},
   "source": [
    "<h1>Item-Based Collaborative Filtering</h1>"
   ]
  },
  {
   "cell_type": "code",
   "execution_count": 1,
   "id": "7726ee00-cb9e-4388-b45c-50749b554b83",
   "metadata": {},
   "outputs": [],
   "source": [
    "import numpy as np\n",
    "import pandas as pd\n",
    "import scipy as sp\n",
    "from sklearn.metrics.pairwise import cosine_similarity"
   ]
  },
  {
   "cell_type": "code",
   "execution_count": 2,
   "id": "02c14363-30ed-4df6-87b3-705eb42692e8",
   "metadata": {},
   "outputs": [],
   "source": [
    "df_ur = pd.read_csv('C:/Users/guije/Documents/boardgames_databases/bgg_400_reviews.csv')"
   ]
  },
  {
   "cell_type": "code",
   "execution_count": 3,
   "id": "2c4a495b-a189-4fd5-bcba-11bde26fe085",
   "metadata": {},
   "outputs": [
    {
     "data": {
      "text/plain": [
       "Index(['user', 'name', 'rating'], dtype='object')"
      ]
     },
     "execution_count": 3,
     "metadata": {},
     "output_type": "execute_result"
    }
   ],
   "source": [
    "df_ur.columns"
   ]
  },
  {
   "cell_type": "code",
   "execution_count": 4,
   "id": "e494f111-9e6d-4368-99e9-2119f9eb4279",
   "metadata": {},
   "outputs": [
    {
     "name": "stdout",
     "output_type": "stream",
     "text": [
      "The user 'Torsten' has reviewed 2 boardgames.\n"
     ]
    }
   ],
   "source": [
    "print(f\"The user 'Torsten' has reviewed {len(df_ur[df_ur.user == 'Torsten'])} boardgames.\")"
   ]
  },
  {
   "cell_type": "code",
   "execution_count": 5,
   "id": "e05293af-31bc-4191-949d-06328416b608",
   "metadata": {},
   "outputs": [
    {
     "name": "stdout",
     "output_type": "stream",
     "text": [
      "<class 'pandas.core.frame.DataFrame'>\n",
      "RangeIndex: 12000 entries, 0 to 11999\n",
      "Data columns (total 3 columns):\n",
      " #   Column  Non-Null Count  Dtype  \n",
      "---  ------  --------------  -----  \n",
      " 0   user    12000 non-null  object \n",
      " 1   name    12000 non-null  object \n",
      " 2   rating  12000 non-null  float64\n",
      "dtypes: float64(1), object(2)\n",
      "memory usage: 281.4+ KB\n"
     ]
    }
   ],
   "source": [
    "df_ur.info()"
   ]
  },
  {
   "cell_type": "code",
   "execution_count": 6,
   "id": "c179288b-10d3-4c0d-9694-f7171fe960c1",
   "metadata": {},
   "outputs": [
    {
     "data": {
      "text/plain": [
       "user      False\n",
       "name      False\n",
       "rating    False\n",
       "dtype: bool"
      ]
     },
     "execution_count": 6,
     "metadata": {},
     "output_type": "execute_result"
    }
   ],
   "source": [
    "df_ur.isnull().any()"
   ]
  },
  {
   "cell_type": "code",
   "execution_count": 7,
   "id": "b12928c9-e821-47e7-a3ae-c6b8ef75821e",
   "metadata": {},
   "outputs": [
    {
     "data": {
      "text/html": [
       "<div>\n",
       "<style scoped>\n",
       "    .dataframe tbody tr th:only-of-type {\n",
       "        vertical-align: middle;\n",
       "    }\n",
       "\n",
       "    .dataframe tbody tr th {\n",
       "        vertical-align: top;\n",
       "    }\n",
       "\n",
       "    .dataframe thead th {\n",
       "        text-align: right;\n",
       "    }\n",
       "</style>\n",
       "<table border=\"1\" class=\"dataframe\">\n",
       "  <thead>\n",
       "    <tr style=\"text-align: right;\">\n",
       "      <th>name</th>\n",
       "      <th>6 nimmt!</th>\n",
       "      <th>7 Wonders</th>\n",
       "      <th>7 Wonders Duel</th>\n",
       "      <th>A Feast for Odin</th>\n",
       "      <th>A Game of Thrones</th>\n",
       "      <th>A Game of Thrones: The Board Game (Second Edition)</th>\n",
       "      <th>Above and Below</th>\n",
       "      <th>Abyss</th>\n",
       "      <th>Acquire</th>\n",
       "      <th>Aeon's End</th>\n",
       "      <th>...</th>\n",
       "      <th>Wingspan</th>\n",
       "      <th>Wits &amp; Wagers</th>\n",
       "      <th>Wizard</th>\n",
       "      <th>Yahtzee</th>\n",
       "      <th>Yokohama</th>\n",
       "      <th>Zombicide</th>\n",
       "      <th>Zombicide: Black Plague</th>\n",
       "      <th>Zombie Dice</th>\n",
       "      <th>Zombies!!!</th>\n",
       "      <th>Zooloretto</th>\n",
       "    </tr>\n",
       "    <tr>\n",
       "      <th>user</th>\n",
       "      <th></th>\n",
       "      <th></th>\n",
       "      <th></th>\n",
       "      <th></th>\n",
       "      <th></th>\n",
       "      <th></th>\n",
       "      <th></th>\n",
       "      <th></th>\n",
       "      <th></th>\n",
       "      <th></th>\n",
       "      <th></th>\n",
       "      <th></th>\n",
       "      <th></th>\n",
       "      <th></th>\n",
       "      <th></th>\n",
       "      <th></th>\n",
       "      <th></th>\n",
       "      <th></th>\n",
       "      <th></th>\n",
       "      <th></th>\n",
       "      <th></th>\n",
       "    </tr>\n",
       "  </thead>\n",
       "  <tbody>\n",
       "    <tr>\n",
       "      <th>-mIDE-</th>\n",
       "      <td>NaN</td>\n",
       "      <td>NaN</td>\n",
       "      <td>NaN</td>\n",
       "      <td>NaN</td>\n",
       "      <td>NaN</td>\n",
       "      <td>NaN</td>\n",
       "      <td>NaN</td>\n",
       "      <td>NaN</td>\n",
       "      <td>NaN</td>\n",
       "      <td>NaN</td>\n",
       "      <td>...</td>\n",
       "      <td>NaN</td>\n",
       "      <td>NaN</td>\n",
       "      <td>NaN</td>\n",
       "      <td>NaN</td>\n",
       "      <td>NaN</td>\n",
       "      <td>NaN</td>\n",
       "      <td>NaN</td>\n",
       "      <td>NaN</td>\n",
       "      <td>NaN</td>\n",
       "      <td>7.5</td>\n",
       "    </tr>\n",
       "    <tr>\n",
       "      <th>.JcK.</th>\n",
       "      <td>NaN</td>\n",
       "      <td>NaN</td>\n",
       "      <td>NaN</td>\n",
       "      <td>NaN</td>\n",
       "      <td>NaN</td>\n",
       "      <td>NaN</td>\n",
       "      <td>NaN</td>\n",
       "      <td>NaN</td>\n",
       "      <td>NaN</td>\n",
       "      <td>NaN</td>\n",
       "      <td>...</td>\n",
       "      <td>NaN</td>\n",
       "      <td>NaN</td>\n",
       "      <td>NaN</td>\n",
       "      <td>NaN</td>\n",
       "      <td>NaN</td>\n",
       "      <td>NaN</td>\n",
       "      <td>NaN</td>\n",
       "      <td>NaN</td>\n",
       "      <td>NaN</td>\n",
       "      <td>NaN</td>\n",
       "    </tr>\n",
       "    <tr>\n",
       "      <th>00matej00</th>\n",
       "      <td>NaN</td>\n",
       "      <td>NaN</td>\n",
       "      <td>NaN</td>\n",
       "      <td>NaN</td>\n",
       "      <td>NaN</td>\n",
       "      <td>NaN</td>\n",
       "      <td>NaN</td>\n",
       "      <td>9.0</td>\n",
       "      <td>NaN</td>\n",
       "      <td>NaN</td>\n",
       "      <td>...</td>\n",
       "      <td>NaN</td>\n",
       "      <td>NaN</td>\n",
       "      <td>NaN</td>\n",
       "      <td>NaN</td>\n",
       "      <td>NaN</td>\n",
       "      <td>NaN</td>\n",
       "      <td>NaN</td>\n",
       "      <td>NaN</td>\n",
       "      <td>NaN</td>\n",
       "      <td>NaN</td>\n",
       "    </tr>\n",
       "    <tr>\n",
       "      <th>0ddjob</th>\n",
       "      <td>NaN</td>\n",
       "      <td>NaN</td>\n",
       "      <td>NaN</td>\n",
       "      <td>NaN</td>\n",
       "      <td>NaN</td>\n",
       "      <td>NaN</td>\n",
       "      <td>NaN</td>\n",
       "      <td>NaN</td>\n",
       "      <td>NaN</td>\n",
       "      <td>NaN</td>\n",
       "      <td>...</td>\n",
       "      <td>NaN</td>\n",
       "      <td>NaN</td>\n",
       "      <td>NaN</td>\n",
       "      <td>NaN</td>\n",
       "      <td>NaN</td>\n",
       "      <td>NaN</td>\n",
       "      <td>NaN</td>\n",
       "      <td>NaN</td>\n",
       "      <td>NaN</td>\n",
       "      <td>NaN</td>\n",
       "    </tr>\n",
       "    <tr>\n",
       "      <th>0xA8E</th>\n",
       "      <td>NaN</td>\n",
       "      <td>NaN</td>\n",
       "      <td>NaN</td>\n",
       "      <td>NaN</td>\n",
       "      <td>NaN</td>\n",
       "      <td>NaN</td>\n",
       "      <td>NaN</td>\n",
       "      <td>NaN</td>\n",
       "      <td>NaN</td>\n",
       "      <td>NaN</td>\n",
       "      <td>...</td>\n",
       "      <td>NaN</td>\n",
       "      <td>NaN</td>\n",
       "      <td>NaN</td>\n",
       "      <td>NaN</td>\n",
       "      <td>NaN</td>\n",
       "      <td>NaN</td>\n",
       "      <td>NaN</td>\n",
       "      <td>NaN</td>\n",
       "      <td>NaN</td>\n",
       "      <td>NaN</td>\n",
       "    </tr>\n",
       "  </tbody>\n",
       "</table>\n",
       "<p>5 rows × 400 columns</p>\n",
       "</div>"
      ],
      "text/plain": [
       "name       6 nimmt!  7 Wonders  7 Wonders Duel  A Feast for Odin  \\\n",
       "user                                                               \n",
       "-mIDE-          NaN        NaN             NaN               NaN   \n",
       ".JcK.           NaN        NaN             NaN               NaN   \n",
       "00matej00       NaN        NaN             NaN               NaN   \n",
       "0ddjob          NaN        NaN             NaN               NaN   \n",
       "0xA8E           NaN        NaN             NaN               NaN   \n",
       "\n",
       "name       A Game of Thrones  \\\n",
       "user                           \n",
       "-mIDE-                   NaN   \n",
       ".JcK.                    NaN   \n",
       "00matej00                NaN   \n",
       "0ddjob                   NaN   \n",
       "0xA8E                    NaN   \n",
       "\n",
       "name       A Game of Thrones: The Board Game (Second Edition)  \\\n",
       "user                                                            \n",
       "-mIDE-                                                   NaN    \n",
       ".JcK.                                                    NaN    \n",
       "00matej00                                                NaN    \n",
       "0ddjob                                                   NaN    \n",
       "0xA8E                                                    NaN    \n",
       "\n",
       "name       Above and Below  Abyss  Acquire  Aeon's End  ...  Wingspan  \\\n",
       "user                                                    ...             \n",
       "-mIDE-                 NaN    NaN      NaN         NaN  ...       NaN   \n",
       ".JcK.                  NaN    NaN      NaN         NaN  ...       NaN   \n",
       "00matej00              NaN    9.0      NaN         NaN  ...       NaN   \n",
       "0ddjob                 NaN    NaN      NaN         NaN  ...       NaN   \n",
       "0xA8E                  NaN    NaN      NaN         NaN  ...       NaN   \n",
       "\n",
       "name       Wits & Wagers  Wizard  Yahtzee  Yokohama  Zombicide  \\\n",
       "user                                                             \n",
       "-mIDE-               NaN     NaN      NaN       NaN        NaN   \n",
       ".JcK.                NaN     NaN      NaN       NaN        NaN   \n",
       "00matej00            NaN     NaN      NaN       NaN        NaN   \n",
       "0ddjob               NaN     NaN      NaN       NaN        NaN   \n",
       "0xA8E                NaN     NaN      NaN       NaN        NaN   \n",
       "\n",
       "name       Zombicide: Black Plague  Zombie Dice  Zombies!!!  Zooloretto  \n",
       "user                                                                     \n",
       "-mIDE-                         NaN          NaN         NaN         7.5  \n",
       ".JcK.                          NaN          NaN         NaN         NaN  \n",
       "00matej00                      NaN          NaN         NaN         NaN  \n",
       "0ddjob                         NaN          NaN         NaN         NaN  \n",
       "0xA8E                          NaN          NaN         NaN         NaN  \n",
       "\n",
       "[5 rows x 400 columns]"
      ]
     },
     "execution_count": 7,
     "metadata": {},
     "output_type": "execute_result"
    }
   ],
   "source": [
    "pivot = df_ur.pivot_table(index=['user'], columns=['name'], values='rating')\n",
    "pivot.head()"
   ]
  },
  {
   "cell_type": "code",
   "execution_count": 8,
   "id": "3ce75f09-5eb7-42f2-be67-64bb1cad64fd",
   "metadata": {},
   "outputs": [
    {
     "data": {
      "text/html": [
       "<div>\n",
       "<style scoped>\n",
       "    .dataframe tbody tr th:only-of-type {\n",
       "        vertical-align: middle;\n",
       "    }\n",
       "\n",
       "    .dataframe tbody tr th {\n",
       "        vertical-align: top;\n",
       "    }\n",
       "\n",
       "    .dataframe thead th {\n",
       "        text-align: right;\n",
       "    }\n",
       "</style>\n",
       "<table border=\"1\" class=\"dataframe\">\n",
       "  <thead>\n",
       "    <tr style=\"text-align: right;\">\n",
       "      <th>name</th>\n",
       "      <th>6 nimmt!</th>\n",
       "      <th>7 Wonders</th>\n",
       "      <th>7 Wonders Duel</th>\n",
       "      <th>A Feast for Odin</th>\n",
       "      <th>A Game of Thrones</th>\n",
       "      <th>A Game of Thrones: The Board Game (Second Edition)</th>\n",
       "      <th>Above and Below</th>\n",
       "      <th>Abyss</th>\n",
       "      <th>Acquire</th>\n",
       "      <th>Aeon's End</th>\n",
       "      <th>...</th>\n",
       "      <th>Wingspan</th>\n",
       "      <th>Wits &amp; Wagers</th>\n",
       "      <th>Wizard</th>\n",
       "      <th>Yahtzee</th>\n",
       "      <th>Yokohama</th>\n",
       "      <th>Zombicide</th>\n",
       "      <th>Zombicide: Black Plague</th>\n",
       "      <th>Zombie Dice</th>\n",
       "      <th>Zombies!!!</th>\n",
       "      <th>Zooloretto</th>\n",
       "    </tr>\n",
       "    <tr>\n",
       "      <th>user</th>\n",
       "      <th></th>\n",
       "      <th></th>\n",
       "      <th></th>\n",
       "      <th></th>\n",
       "      <th></th>\n",
       "      <th></th>\n",
       "      <th></th>\n",
       "      <th></th>\n",
       "      <th></th>\n",
       "      <th></th>\n",
       "      <th></th>\n",
       "      <th></th>\n",
       "      <th></th>\n",
       "      <th></th>\n",
       "      <th></th>\n",
       "      <th></th>\n",
       "      <th></th>\n",
       "      <th></th>\n",
       "      <th></th>\n",
       "      <th></th>\n",
       "      <th></th>\n",
       "    </tr>\n",
       "  </thead>\n",
       "  <tbody>\n",
       "    <tr>\n",
       "      <th>-mIDE-</th>\n",
       "      <td>0.0</td>\n",
       "      <td>0.0</td>\n",
       "      <td>0.0</td>\n",
       "      <td>0.0</td>\n",
       "      <td>0.0</td>\n",
       "      <td>0.0</td>\n",
       "      <td>0.0</td>\n",
       "      <td>0.0</td>\n",
       "      <td>0.0</td>\n",
       "      <td>0.0</td>\n",
       "      <td>...</td>\n",
       "      <td>0.0</td>\n",
       "      <td>0.0</td>\n",
       "      <td>0.0</td>\n",
       "      <td>0.0</td>\n",
       "      <td>0.0</td>\n",
       "      <td>0.0</td>\n",
       "      <td>0.0</td>\n",
       "      <td>0.0</td>\n",
       "      <td>0.0</td>\n",
       "      <td>7.5</td>\n",
       "    </tr>\n",
       "    <tr>\n",
       "      <th>.JcK.</th>\n",
       "      <td>0.0</td>\n",
       "      <td>0.0</td>\n",
       "      <td>0.0</td>\n",
       "      <td>0.0</td>\n",
       "      <td>0.0</td>\n",
       "      <td>0.0</td>\n",
       "      <td>0.0</td>\n",
       "      <td>0.0</td>\n",
       "      <td>0.0</td>\n",
       "      <td>0.0</td>\n",
       "      <td>...</td>\n",
       "      <td>0.0</td>\n",
       "      <td>0.0</td>\n",
       "      <td>0.0</td>\n",
       "      <td>0.0</td>\n",
       "      <td>0.0</td>\n",
       "      <td>0.0</td>\n",
       "      <td>0.0</td>\n",
       "      <td>0.0</td>\n",
       "      <td>0.0</td>\n",
       "      <td>0.0</td>\n",
       "    </tr>\n",
       "    <tr>\n",
       "      <th>00matej00</th>\n",
       "      <td>0.0</td>\n",
       "      <td>0.0</td>\n",
       "      <td>0.0</td>\n",
       "      <td>0.0</td>\n",
       "      <td>0.0</td>\n",
       "      <td>0.0</td>\n",
       "      <td>0.0</td>\n",
       "      <td>9.0</td>\n",
       "      <td>0.0</td>\n",
       "      <td>0.0</td>\n",
       "      <td>...</td>\n",
       "      <td>0.0</td>\n",
       "      <td>0.0</td>\n",
       "      <td>0.0</td>\n",
       "      <td>0.0</td>\n",
       "      <td>0.0</td>\n",
       "      <td>0.0</td>\n",
       "      <td>0.0</td>\n",
       "      <td>0.0</td>\n",
       "      <td>0.0</td>\n",
       "      <td>0.0</td>\n",
       "    </tr>\n",
       "    <tr>\n",
       "      <th>0ddjob</th>\n",
       "      <td>0.0</td>\n",
       "      <td>0.0</td>\n",
       "      <td>0.0</td>\n",
       "      <td>0.0</td>\n",
       "      <td>0.0</td>\n",
       "      <td>0.0</td>\n",
       "      <td>0.0</td>\n",
       "      <td>0.0</td>\n",
       "      <td>0.0</td>\n",
       "      <td>0.0</td>\n",
       "      <td>...</td>\n",
       "      <td>0.0</td>\n",
       "      <td>0.0</td>\n",
       "      <td>0.0</td>\n",
       "      <td>0.0</td>\n",
       "      <td>0.0</td>\n",
       "      <td>0.0</td>\n",
       "      <td>0.0</td>\n",
       "      <td>0.0</td>\n",
       "      <td>0.0</td>\n",
       "      <td>0.0</td>\n",
       "    </tr>\n",
       "    <tr>\n",
       "      <th>0xA8E</th>\n",
       "      <td>0.0</td>\n",
       "      <td>0.0</td>\n",
       "      <td>0.0</td>\n",
       "      <td>0.0</td>\n",
       "      <td>0.0</td>\n",
       "      <td>0.0</td>\n",
       "      <td>0.0</td>\n",
       "      <td>0.0</td>\n",
       "      <td>0.0</td>\n",
       "      <td>0.0</td>\n",
       "      <td>...</td>\n",
       "      <td>0.0</td>\n",
       "      <td>0.0</td>\n",
       "      <td>0.0</td>\n",
       "      <td>0.0</td>\n",
       "      <td>0.0</td>\n",
       "      <td>0.0</td>\n",
       "      <td>0.0</td>\n",
       "      <td>0.0</td>\n",
       "      <td>0.0</td>\n",
       "      <td>0.0</td>\n",
       "    </tr>\n",
       "  </tbody>\n",
       "</table>\n",
       "<p>5 rows × 400 columns</p>\n",
       "</div>"
      ],
      "text/plain": [
       "name       6 nimmt!  7 Wonders  7 Wonders Duel  A Feast for Odin  \\\n",
       "user                                                               \n",
       "-mIDE-          0.0        0.0             0.0               0.0   \n",
       ".JcK.           0.0        0.0             0.0               0.0   \n",
       "00matej00       0.0        0.0             0.0               0.0   \n",
       "0ddjob          0.0        0.0             0.0               0.0   \n",
       "0xA8E           0.0        0.0             0.0               0.0   \n",
       "\n",
       "name       A Game of Thrones  \\\n",
       "user                           \n",
       "-mIDE-                   0.0   \n",
       ".JcK.                    0.0   \n",
       "00matej00                0.0   \n",
       "0ddjob                   0.0   \n",
       "0xA8E                    0.0   \n",
       "\n",
       "name       A Game of Thrones: The Board Game (Second Edition)  \\\n",
       "user                                                            \n",
       "-mIDE-                                                   0.0    \n",
       ".JcK.                                                    0.0    \n",
       "00matej00                                                0.0    \n",
       "0ddjob                                                   0.0    \n",
       "0xA8E                                                    0.0    \n",
       "\n",
       "name       Above and Below  Abyss  Acquire  Aeon's End  ...  Wingspan  \\\n",
       "user                                                    ...             \n",
       "-mIDE-                 0.0    0.0      0.0         0.0  ...       0.0   \n",
       ".JcK.                  0.0    0.0      0.0         0.0  ...       0.0   \n",
       "00matej00              0.0    9.0      0.0         0.0  ...       0.0   \n",
       "0ddjob                 0.0    0.0      0.0         0.0  ...       0.0   \n",
       "0xA8E                  0.0    0.0      0.0         0.0  ...       0.0   \n",
       "\n",
       "name       Wits & Wagers  Wizard  Yahtzee  Yokohama  Zombicide  \\\n",
       "user                                                             \n",
       "-mIDE-               0.0     0.0      0.0       0.0        0.0   \n",
       ".JcK.                0.0     0.0      0.0       0.0        0.0   \n",
       "00matej00            0.0     0.0      0.0       0.0        0.0   \n",
       "0ddjob               0.0     0.0      0.0       0.0        0.0   \n",
       "0xA8E                0.0     0.0      0.0       0.0        0.0   \n",
       "\n",
       "name       Zombicide: Black Plague  Zombie Dice  Zombies!!!  Zooloretto  \n",
       "user                                                                     \n",
       "-mIDE-                         0.0          0.0         0.0         7.5  \n",
       ".JcK.                          0.0          0.0         0.0         0.0  \n",
       "00matej00                      0.0          0.0         0.0         0.0  \n",
       "0ddjob                         0.0          0.0         0.0         0.0  \n",
       "0xA8E                          0.0          0.0         0.0         0.0  \n",
       "\n",
       "[5 rows x 400 columns]"
      ]
     },
     "execution_count": 8,
     "metadata": {},
     "output_type": "execute_result"
    }
   ],
   "source": [
    "# Filling NaN values with zero\n",
    "pivot.fillna(0, inplace=True)\n",
    "pivot.head()"
   ]
  },
  {
   "cell_type": "code",
   "execution_count": 9,
   "id": "ddacb22a-c3da-4577-a60b-4dd63b121902",
   "metadata": {},
   "outputs": [],
   "source": [
    "pivot = pivot.T"
   ]
  },
  {
   "cell_type": "code",
   "execution_count": 10,
   "id": "08c8241f-17bb-4caa-9e81-e8227dc8084e",
   "metadata": {},
   "outputs": [
    {
     "data": {
      "text/plain": [
       "(400, 11282)"
      ]
     },
     "execution_count": 10,
     "metadata": {},
     "output_type": "execute_result"
    }
   ],
   "source": [
    "pivot.shape"
   ]
  },
  {
   "cell_type": "code",
   "execution_count": 11,
   "id": "fa0dff58-149e-4df8-be01-9cf9216bbb7b",
   "metadata": {},
   "outputs": [
    {
     "data": {
      "text/plain": [
       "(400, 11282)"
      ]
     },
     "execution_count": 11,
     "metadata": {},
     "output_type": "execute_result"
    }
   ],
   "source": [
    "# Dropping columns with only zeroes\n",
    "pivot = pivot.loc[:, (pivot != 0).any(axis=0)]\n",
    "pivot.shape"
   ]
  },
  {
   "cell_type": "code",
   "execution_count": 12,
   "id": "ae588dfb-31cc-4ce6-bac7-4c48bd2f19e6",
   "metadata": {},
   "outputs": [],
   "source": [
    "piv_sparse = sp.sparse.csr_matrix(pivot.values)"
   ]
  },
  {
   "cell_type": "markdown",
   "id": "c27f67ff-025a-4a6d-9ff0-bdbc8e08cac4",
   "metadata": {},
   "source": [
    "<h1>Modeling</h1>"
   ]
  },
  {
   "cell_type": "code",
   "execution_count": 13,
   "id": "6cff31c9-228a-4ede-9bcf-e38e84f32f92",
   "metadata": {},
   "outputs": [],
   "source": [
    "boardgame_similarity = cosine_similarity(piv_sparse)"
   ]
  },
  {
   "cell_type": "code",
   "execution_count": 15,
   "id": "bb1a78a3-a761-4f79-812b-29edbccee4e8",
   "metadata": {},
   "outputs": [],
   "source": [
    "bg_sim_df = pd.DataFrame(boardgame_similarity, index=pivot.index, columns=pivot.index)"
   ]
  },
  {
   "cell_type": "code",
   "execution_count": 16,
   "id": "50c931f8-34e8-441c-a881-c30c0b165e17",
   "metadata": {},
   "outputs": [
    {
     "name": "stdout",
     "output_type": "stream",
     "text": [
      "Are all diagonal elements 1.0? False\n"
     ]
    }
   ],
   "source": [
    "are_diagonal_ones = np.all(np.diag(bg_sim_df) == 1.0)\n",
    "\n",
    "print(f\"Are all diagonal elements 1.0? {are_diagonal_ones}\")"
   ]
  },
  {
   "cell_type": "code",
   "execution_count": 17,
   "id": "a42e9a2c-14f9-44ad-9244-88cd11f79e83",
   "metadata": {},
   "outputs": [
    {
     "name": "stdout",
     "output_type": "stream",
     "text": [
      "<class 'pandas.core.frame.DataFrame'>\n",
      "Index: 400 entries, 6 nimmt! to Zooloretto\n",
      "Columns: 400 entries, 6 nimmt! to Zooloretto\n",
      "dtypes: float64(400)\n",
      "memory usage: 1.2+ MB\n"
     ]
    }
   ],
   "source": [
    "bg_sim_df.info()"
   ]
  },
  {
   "cell_type": "code",
   "execution_count": 18,
   "id": "3db0370e-2af4-457b-b077-3d3b24818980",
   "metadata": {},
   "outputs": [
    {
     "data": {
      "text/plain": [
       "True"
      ]
     },
     "execution_count": 18,
     "metadata": {},
     "output_type": "execute_result"
    }
   ],
   "source": [
    "'Clue' in bg_sim_df.columns"
   ]
  },
  {
   "cell_type": "markdown",
   "id": "8bbc3ff4-a224-4d2f-9c20-5b19350c3e38",
   "metadata": {},
   "source": [
    "<h2>Making Recommendation - Example Boardgame: Clue</h2>"
   ]
  },
  {
   "cell_type": "code",
   "execution_count": 19,
   "id": "77b01efb-e0ac-43e9-af72-32c683b3b48c",
   "metadata": {},
   "outputs": [],
   "source": [
    "def bg_rec(bg_name):\n",
    "    number = 1\n",
    "    print(f\"Recommended because you like {bg_name}:\\n\")\n",
    "    for bg in bg_sim_df.sort_values(by = bg_name, ascending = False).index[1:6]:\n",
    "        print(f\"#{number}: {bg}, {round(bg_sim_df[bg][bg_name]*100,2)}% match\")\n",
    "        number +=1  "
   ]
  },
  {
   "cell_type": "code",
   "execution_count": 20,
   "id": "8a0cf777-5764-43a5-98bd-2938e007f239",
   "metadata": {},
   "outputs": [
    {
     "name": "stdout",
     "output_type": "stream",
     "text": [
      "Recommended because you like Clue:\n",
      "\n",
      "#1: In the Year of the Dragon, 4.29% match\n",
      "#2: Euphoria: Build a Better Dystopia, 3.81% match\n",
      "#3: Taboo, 3.53% match\n",
      "#4: Fury of Dracula (Third/Fourth Edition), 2.44% match\n",
      "#5: Las Vegas, 2.02% match\n"
     ]
    }
   ],
   "source": [
    "bg_rec('Clue')"
   ]
  },
  {
   "cell_type": "code",
   "execution_count": null,
   "id": "218c676b-a1eb-4881-a8db-a5161b56e053",
   "metadata": {},
   "outputs": [],
   "source": []
  }
 ],
 "metadata": {
  "kernelspec": {
   "display_name": "Python 3 (ipykernel)",
   "language": "python",
   "name": "python3"
  },
  "language_info": {
   "codemirror_mode": {
    "name": "ipython",
    "version": 3
   },
   "file_extension": ".py",
   "mimetype": "text/x-python",
   "name": "python",
   "nbconvert_exporter": "python",
   "pygments_lexer": "ipython3",
   "version": "3.10.13"
  }
 },
 "nbformat": 4,
 "nbformat_minor": 5
}
